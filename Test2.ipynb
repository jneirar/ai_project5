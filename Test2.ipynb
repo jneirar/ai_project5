{
 "cells": [
  {
   "cell_type": "code",
   "execution_count": 47,
   "metadata": {},
   "outputs": [],
   "source": [
    "import cv2\n",
    "import imutils\n",
    "import pandas as pd\n",
    "import numpy as np\n",
    "import matplotlib.pyplot as plt\n",
    "import os\n",
    "from os import listdir\n",
    "from os.path import isfile, join\n",
    "from PIL import Image, ImageOps\n",
    "\n",
    "import gdown as gdown\n",
    "import zipfile\n",
    "\n",
    "import torch\n",
    "import torch.nn as nn\n",
    "import torchvision\n",
    "from torchvision import transforms, datasets"
   ]
  },
  {
   "cell_type": "code",
   "execution_count": 2,
   "metadata": {},
   "outputs": [],
   "source": [
    "from Models.Models import *"
   ]
  },
  {
   "cell_type": "code",
   "execution_count": 10,
   "metadata": {},
   "outputs": [
    {
     "name": "stdout",
     "output_type": "stream",
     "text": [
      "cuda:0\n"
     ]
    }
   ],
   "source": [
    "PATH = os.getcwd()\n",
    "charToASCII = {'0': 48, '1': 49, '2': 50, '3': 51, '4': 52, '5': 53, '6': 54, '7': 55, '8': 56, '9': 57, 'A': 65, 'B': 66, 'C': 67, 'D': 68, 'E': 69, 'F': 70, 'G': 71, 'H': 72, 'I': 73, 'J': 74, 'K': 75, 'L': 76, 'M': 77, 'N': 78, 'O': 79, 'P': 80, 'Q': 81, 'R': 82, 'S': 83, 'T': 84, 'U': 85, 'V': 86, 'W': 87, 'X': 88, 'Y': 89, 'Z': 90, 'a': 97, 'b': 98, 'c': 99, 'd': 100, 'e': 101, 'f': 102, 'g': 103, 'h': 104, 'i': 105, 'j': 106, 'k': 107, 'l': 108, 'm': 109, 'n': 110, 'o': 111, 'p': 112, 'q': 113, 'r': 114, 's': 115, 't': 116, 'u': 117, 'v': 118, 'w': 119, 'x': 120, 'y': 121, 'z': 122}\n",
    "ASCIIToChar = {48: '0', 49: '1', 50: '2', 51: '3', 52: '4', 53: '5', 54: '6', 55: '7', 56: '8', 57: '9', 65: 'A', 66: 'B', 67: 'C', 68: 'D', 69: 'E', 70: 'F', 71: 'G', 72: 'H', 73: 'I', 74: 'J', 75: 'K', 76: 'L', 77: 'M', 78: 'N', 79: 'O', 80: 'P', 81: 'Q', 82: 'R', 83: 'S', 84: 'T', 85: 'U', 86: 'V', 87: 'W', 88: 'X', 89: 'Y', 90: 'Z', 97: 'a', 98: 'b', 99: 'c', 100: 'd', 101: 'e', 102: 'f', 103: 'g', 104: 'h', 105: 'i', 106: 'j', 107: 'k', 108: 'l', 109: 'm', 110: 'n', 111: 'o', 112: 'p', 113: 'q', 114: 'r', 115: 's', 116: 't', 117: 'u', 118: 'v', 119: 'w', 120: 'x', 121: 'y', 122: 'z'}\n",
    "classToChar = []\n",
    "for key in charToASCII.keys():\n",
    "    classToChar.append(key)\n",
    "device = torch.device('cuda:0' if torch.cuda.is_available() else 'cpu')\n",
    "print(device)"
   ]
  },
  {
   "cell_type": "code",
   "execution_count": null,
   "metadata": {},
   "outputs": [],
   "source": [
    "# Descarga los modelos entrenados\n",
    "url =  'https://drive.google.com/uc?id=1PGKJ4GU9yI1JVVddAtvuyhyPfL719BUG&export=download'\n",
    "output = 'Models/models.zip'\n",
    "gdown.download(url, output, quiet=False)\n",
    "with zipfile.ZipFile(PATH + \"/Models/models.zip\",\"r\") as zip_ref:\n",
    "    zip_ref.extractall(PATH + \"/Models/\")"
   ]
  },
  {
   "cell_type": "code",
   "execution_count": 106,
   "metadata": {},
   "outputs": [
    {
     "data": {
      "image/png": "[encoded data removed]",
      "text/plain": [
       "<Figure size 432x288 with 1 Axes>"
      ]
     },
     "metadata": {
      "needs_background": "light"
     },
     "output_type": "display_data"
    },
    {
     "data": {
      "image/png": "[encoded data removed]",
      "text/plain": [
       "<Figure size 432x288 with 1 Axes>"
      ]
     },
     "metadata": {
      "needs_background": "light"
     },
     "output_type": "display_data"
    },
    {
     "data": {
      "image/png": "[encoded data removed]",
      "text/plain": [
       "<Figure size 432x288 with 1 Axes>"
      ]
     },
     "metadata": {
      "needs_background": "light"
     },
     "output_type": "display_data"
    },
    {
     "data": {
      "image/png": "[encoded data removed]",
      "text/plain": [
       "<Figure size 432x288 with 1 Axes>"
      ]
     },
     "metadata": {
      "needs_background": "light"
     },
     "output_type": "display_data"
    },
    {
     "data": {
      "image/png": "[encoded data removed]",
      "text/plain": [
       "<Figure size 432x288 with 1 Axes>"
      ]
     },
     "metadata": {
      "needs_background": "light"
     },
     "output_type": "display_data"
    },
    {
     "data": {
      "image/png": "[encoded data removed]",
      "text/plain": [
       "<Figure size 432x288 with 1 Axes>"
      ]
     },
     "metadata": {
      "needs_background": "light"
     },
     "output_type": "display_data"
    },
    {
     "name": "stdout",
     "output_type": "stream",
     "text": [
      "6\n",
      "<class 'numpy.ndarray'>\n",
      "(28, 28)\n"
     ]
    }
   ],
   "source": [
    "#Obtener images = lista de np arrays que entran al modelo\n",
    "img = cv2.imread(PATH + '/out.jpg')\n",
    "\n",
    "gray = cv2.cvtColor(img, cv2.COLOR_BGR2GRAY)\n",
    "ret, thresh = cv2.threshold(gray, 127, 255, cv2.THRESH_BINARY_INV)\n",
    "kernel = cv2.getStructuringElement(cv2.MORPH_RECT, (1,1))\n",
    "mask = cv2.morphologyEx(thresh, cv2.MORPH_DILATE, kernel)\n",
    "conts = cv2.findContours(mask, cv2.RETR_EXTERNAL, cv2.CHAIN_APPROX_SIMPLE)\n",
    "conts = imutils.grab_contours(conts)\n",
    "boxes = []\n",
    "for cntr in conts:\n",
    "    x,y,w,h = cv2.boundingRect(cntr)\n",
    "    boxes.append((x,y,w,h))\n",
    "\n",
    "boxes = sorted(boxes, key=lambda x: (x))\n",
    "\n",
    "images = []\n",
    "for e, i in enumerate(boxes):\n",
    "    x = i[0]\n",
    "    y = i[1]\n",
    "    w = i[2]\n",
    "    h = i[3]\n",
    "    cropped = thresh[y:y+h, x:x+w]\n",
    "    cropped = 255 - cropped\n",
    "    height = cropped.shape[0]\n",
    "    width = cropped.shape[1]\n",
    "    val = 150\n",
    "    if (height > width):\n",
    "        diff = height - width\n",
    "        padding = cv2.copyMakeBorder(cropped,val,val,val+int(diff/2),val+int(diff/2),cv2.BORDER_CONSTANT,value=[255,255,255])\n",
    "    elif (height == width):\n",
    "        padding = cv2.copyMakeBorder(cropped,val,val,val,val,cv2.BORDER_CONSTANT,value=[255,255,255])\n",
    "    else:\n",
    "        diff = width - height\n",
    "        padding = cv2.copyMakeBorder(cropped,val+int(diff/2),val+int(diff/2),val,val,cv2.BORDER_CONSTANT,value=[255,255,255])\n",
    "    resized = cv2.resize(padding, (28, 28))\n",
    "    for ii in range(resized.shape[0]):\n",
    "        for jj in range(resized.shape[1]):\n",
    "            if resized[ii][jj] < 1.0:\n",
    "                resized[ii][jj] = 0.0\n",
    "            else:\n",
    "                resized[ii][jj] = 255.0\n",
    "    images.append(resized.astype('float32'))    \n",
    "    if e < 6:\n",
    "        plt.imshow(resized)\n",
    "        plt.show()\n",
    "    \n",
    "print(len(images))\n",
    "print(type(images[0]))\n",
    "print(images[0].shape)"
   ]
  },
  {
   "cell_type": "code",
   "execution_count": 61,
   "metadata": {},
   "outputs": [
    {
     "data": {
      "text/plain": [
       "Lenet5(\n",
       "  (features): Sequential(\n",
       "    (0): Conv2d(1, 6, kernel_size=(5, 5), stride=(1, 1), padding=(2, 2))\n",
       "    (1): ReLU(inplace=True)\n",
       "    (2): MaxPool2d(kernel_size=2, stride=2, padding=0, dilation=1, ceil_mode=False)\n",
       "    (3): Conv2d(6, 16, kernel_size=(5, 5), stride=(1, 1))\n",
       "    (4): ReLU(inplace=True)\n",
       "    (5): MaxPool2d(kernel_size=2, stride=2, padding=0, dilation=1, ceil_mode=False)\n",
       "    (6): Conv2d(16, 120, kernel_size=(5, 5), stride=(1, 1))\n",
       "    (7): AdaptiveAvgPool2d(output_size=(1, 1))\n",
       "  )\n",
       "  (classifier): Sequential(\n",
       "    (0): Linear(in_features=120, out_features=84, bias=True)\n",
       "    (1): ReLU(inplace=True)\n",
       "    (2): Linear(in_features=84, out_features=62, bias=True)\n",
       "  )\n",
       ")"
      ]
     },
     "execution_count": 61,
     "metadata": {},
     "output_type": "execute_result"
    }
   ],
   "source": [
    "# Carga el modelo y lo envia a device\n",
    "model = torch.load(PATH + '/Models/Lenet5.pt')\n",
    "model = model.to(device)\n",
    "model.eval()"
   ]
  },
  {
   "cell_type": "code",
   "execution_count": 70,
   "metadata": {},
   "outputs": [],
   "source": [
    "mapIndex = {}\n",
    "i = 0\n",
    "for key in ASCIIToChar.keys():\n",
    "    mapIndex[key] = i\n",
    "    i += 1\n",
    "PATH_DATASET = \"E:\\\\Handwritten Dataset\\\\by_class\\\\\" #Path to dataset\n",
    "chars = []\n",
    "class_id = 104\n",
    "i = 0\n",
    "PATH_CLASS = PATH_DATASET + str(hex(class_id))[2:] + \"\\\\train_\" + str(hex(class_id))[2:] + \"\\\\\"\n",
    "for file in listdir(PATH_CLASS):\n",
    "    img = Image.open(PATH_CLASS + file)\n",
    "    img = ImageOps.grayscale(img)\n",
    "    img = img.resize((28, 28))\n",
    "    images.append(np.array(img))\n",
    "    i += 1\n",
    "    if i == 10:\n",
    "        break\n"
   ]
  },
  {
   "cell_type": "code",
   "execution_count": 54,
   "metadata": {},
   "outputs": [
    {
     "name": "stdout",
     "output_type": "stream",
     "text": [
      "\n"
     ]
    }
   ],
   "source": [
    "print()"
   ]
  },
  {
   "cell_type": "code",
   "execution_count": 107,
   "metadata": {},
   "outputs": [
    {
     "data": {
      "image/png": "[encoded data removed]",
      "text/plain": [
       "<Figure size 1800x720 with 6 Axes>"
      ]
     },
     "metadata": {
      "needs_background": "light"
     },
     "output_type": "display_data"
    },
    {
     "name": "stdout",
     "output_type": "stream",
     "text": [
      "\n"
     ]
    }
   ],
   "source": [
    "#Testea\n",
    "transformToTensor = transforms.ToTensor()\n",
    "imageTensors = [transformToTensor(np.array(img)) for img in images]\n",
    "imageBatch = torch.utils.data.DataLoader(dataset=imageTensors, batch_size=64, shuffle=False)\n",
    "\n",
    "batch = 0\n",
    "for imgBatch in imageBatch:\n",
    "    imgBatch = imgBatch.to(device)\n",
    "    labelBatchPred = model(imgBatch)\n",
    "    \n",
    "    labelBatchPred = labelBatchPred.to('cpu')\n",
    "    imgBatch = imgBatch.to('cpu')\n",
    "    #print(labelBatchPred[0])\n",
    "    _, predBatch = torch.max(labelBatchPred, 1)\n",
    "    \n",
    "    group = 0\n",
    "    n = len(imgBatch)\n",
    "    ok = 1\n",
    "    while(group < 4 and ok):\n",
    "        plt.figure(figsize = (25, 10))\n",
    "        r, c = 1, 16\n",
    "        for i in range(16):\n",
    "            plt.subplot(r, c, i+1)\n",
    "            plt.imshow(imgBatch[16*group + i].permute(1, 2, 0))\n",
    "            #plt.xlabel(str(64*batch + 16*group + i + 1) + \": \" + classToChar[predBatch[16*group + i].item()] + \" (\" + classToChar[np.argmax(y_data[16*group + i])] + \")\", fontsize = 15)\n",
    "            plt.xlabel(str(64*batch + 16*group + i + 1) + \": \" + classToChar[predBatch[16*group + i].item()], fontsize = 15)\n",
    "            if 16*group + i + 1 == n:\n",
    "                ok = 0\n",
    "                break\n",
    "        plt.show()\n",
    "        print(\"\")\n",
    "        group += 1\n",
    "    batch += 1"
   ]
  },
  {
   "cell_type": "code",
   "execution_count": null,
   "metadata": {},
   "outputs": [],
   "source": []
  },
  {
   "cell_type": "code",
   "execution_count": null,
   "metadata": {},
   "outputs": [],
   "source": []
  },
  {
   "cell_type": "code",
   "execution_count": null,
   "metadata": {},
   "outputs": [],
   "source": []
  },
  {
   "cell_type": "code",
   "execution_count": null,
   "metadata": {},
   "outputs": [],
   "source": []
  },
  {
   "cell_type": "code",
   "execution_count": null,
   "metadata": {},
   "outputs": [],
   "source": []
  }
 ],
 "metadata": {
  "kernelspec": {
   "display_name": "Python 3",
   "language": "python",
   "name": "python3"
  },
  "language_info": {
   "codemirror_mode": {
    "name": "ipython",
    "version": 3
   },
   "file_extension": ".py",
   "mimetype": "text/x-python",
   "name": "python",
   "nbconvert_exporter": "python",
   "pygments_lexer": "ipython3",
   "version": "3.8.5"
  }
 },
 "nbformat": 4,
 "nbformat_minor": 4
}
