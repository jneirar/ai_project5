{
 "cells": [
  {
   "cell_type": "code",
   "execution_count": null,
   "metadata": {},
   "outputs": [],
   "source": [
    "!pip install opencv-python\n",
    "!pip install pandas\n",
    "!pip install matplotlib\n",
    "!pip install gdown\n",
    "!pip install sklearn\n",
    "!pip install scipy\n",
    "!pip install imutils\n",
    "!pip3 install torch torchvision torchaudio --extra-index-url https://download.pytorch.org/whl/cu113"
   ]
  },
  {
   "cell_type": "code",
   "execution_count": 95,
   "metadata": {},
   "outputs": [],
   "source": [
    "import cv2\n",
    "import pandas as pd\n",
    "import numpy as np\n",
    "import matplotlib.pyplot as plt\n",
    "import os\n",
    "\n",
    "import gdown as gdown\n",
    "from sklearn.utils import shuffle\n",
    "from sklearn.model_selection import train_test_split\n",
    "from sklearn.preprocessing import MinMaxScaler\n",
    "\n",
    "import torch\n",
    "import torch.nn as nn\n",
    "import torchvision\n",
    "from torchvision import transforms, datasets\n",
    "import torch.nn.functional as F\n",
    "from torch.utils.data import DataLoader,Dataset\n",
    "from torchvision.transforms.transforms import Normalize"
   ]
  },
  {
   "cell_type": "code",
   "execution_count": 2,
   "metadata": {},
   "outputs": [
    {
     "name": "stderr",
     "output_type": "stream",
     "text": [
      "Downloading...\n",
      "From: https://drive.google.com/uc?export=download&id=1UGNAWPEe2YtkZNx3chPJRNbJMyHXU3Z6\n",
      "To: C:\\Users\\Jorge\\AI\\A_Z Handwritten Data.csv\n",
      "100%|██████████| 699M/699M [00:50<00:00, 13.7MB/s] \n"
     ]
    },
    {
     "data": {
      "text/plain": [
       "'A_Z Handwritten Data.csv'"
      ]
     },
     "execution_count": 2,
     "metadata": {},
     "output_type": "execute_result"
    }
   ],
   "source": [
    "url =  'https://drive.google.com/uc?export=download&id=1UGNAWPEe2YtkZNx3chPJRNbJMyHXU3Z6'\n",
    "output = 'A_Z Handwritten Data.csv'\n",
    "gdown.download(url, output, quiet=False)\n"
   ]
  },
  {
   "cell_type": "code",
   "execution_count": 96,
   "metadata": {},
   "outputs": [
    {
     "name": "stdout",
     "output_type": "stream",
     "text": [
      "(372451, 785)\n"
     ]
    }
   ],
   "source": [
    "PATH = os.getcwd()\n",
    "data = pd.read_csv(PATH + \"/A_Z Handwritten Data.csv\", header=None).astype('float32').to_numpy()\n",
    "# column 0 = label\n",
    "print(data.shape)"
   ]
  },
  {
   "cell_type": "code",
   "execution_count": 97,
   "metadata": {},
   "outputs": [
    {
     "name": "stdout",
     "output_type": "stream",
     "text": [
      "(372451, 784)\n",
      "(372451, 26)\n"
     ]
    }
   ],
   "source": [
    "np.random.shuffle(data)\n",
    "x_data = data[:, 1:]\n",
    "labels = data[:, 0]\n",
    "y_data = []\n",
    "for i in labels:\n",
    "  labels_v = np.zeros(26, dtype=np.float32)\n",
    "  labels_v[int(i)] = 1\n",
    "  y_data.append(labels_v)\n",
    "y_data = np.array(y_data)\n",
    "normalizer = MinMaxScaler()\n",
    "normalizer.fit(x_data)\n",
    "print(x_data.shape)\n",
    "print(y_data.shape)"
   ]
  },
  {
   "cell_type": "code",
   "execution_count": 98,
   "metadata": {},
   "outputs": [
    {
     "name": "stdout",
     "output_type": "stream",
     "text": [
      "1 14 15 12 0 15 11 24 3 18 "
     ]
    },
    {
     "data": {
      "image/png": "[encoded data removed]",
      "text/plain": [
       "<Figure size 3600x720 with 10 Axes>"
      ]
     },
     "metadata": {
      "needs_background": "light"
     },
     "output_type": "display_data"
    }
   ],
   "source": [
    "plt.figure(figsize = (50, 10))\n",
    "r, c = 1, 10\n",
    "for i in range(r * c):  \n",
    "    plt.subplot(r, c, i+1)\n",
    "    plt.imshow(x_data[i].reshape(28,28), cmap='gray')\n",
    "    print(np.argmax(y_data[i]), end = \" \")\n",
    "plt.show()"
   ]
  },
  {
   "cell_type": "code",
   "execution_count": 99,
   "metadata": {},
   "outputs": [
    {
     "name": "stdout",
     "output_type": "stream",
     "text": [
      "cuda:0\n"
     ]
    }
   ],
   "source": [
    "device = torch.device('cuda:0' if torch.cuda.is_available() else 'cpu')\n",
    "print(device)"
   ]
  },
  {
   "cell_type": "code",
   "execution_count": 100,
   "metadata": {},
   "outputs": [],
   "source": [
    "transformToTensor = transforms.ToTensor()\n",
    "data_set = []\n",
    "for i in range(x_data.shape[0]):\n",
    "    data_set.append(( transformToTensor(x_data[i].reshape(28, 28)), torch.tensor(y_data[i]) ))"
   ]
  },
  {
   "cell_type": "code",
   "execution_count": 101,
   "metadata": {},
   "outputs": [
    {
     "name": "stdout",
     "output_type": "stream",
     "text": [
      "train set length: 297960\n",
      "validation set length: 37245\n",
      "test set length: 37246\n",
      "set type: <class 'list'>\n",
      "data set type: <class 'tuple'>\n",
      "first data set type: <class 'torch.Tensor'>\n",
      "first data shape: torch.Size([1, 28, 28])\n",
      "second data set type: <class 'torch.Tensor'>\n",
      "second data shape: torch.Size([26])\n"
     ]
    }
   ],
   "source": [
    "n_train = int(0.8 * len(x_data))\n",
    "n_validation = int(0.1 * len(x_data))\n",
    "train_set = data_set[:n_train]\n",
    "validation_set = data_set[n_train:n_train + n_validation]\n",
    "test_set = data_set[n_train + n_validation:]\n",
    "\n",
    "print(\"train set length:\", len(train_set))\n",
    "print(\"validation set length:\", len(validation_set))\n",
    "print(\"test set length:\", len(test_set))\n",
    "print(\"set type:\", type(train_set))\n",
    "print(\"data set type:\", type(train_set[0]))\n",
    "a, b = train_set[0] \n",
    "print(\"first data set type:\", type(a))\n",
    "print(\"first data shape:\", a.shape)\n",
    "print(\"second data set type:\", type(b))\n",
    "print(\"second data shape:\", b.shape)"
   ]
  },
  {
   "cell_type": "code",
   "execution_count": 102,
   "metadata": {},
   "outputs": [],
   "source": [
    "batch_size = 64\n",
    "\n",
    "train_loader = torch.utils.data.DataLoader(dataset=train_set, batch_size=batch_size, shuffle=True)\n",
    "validation_loader = torch.utils.data.DataLoader(dataset=validation_set, batch_size=batch_size, shuffle=True)\n",
    "test_loader = torch.utils.data.DataLoader(dataset=test_set, batch_size=batch_size, shuffle=True)"
   ]
  },
  {
   "cell_type": "code",
   "execution_count": 103,
   "metadata": {},
   "outputs": [],
   "source": [
    "def train(model, train_loader, Epochs, loss_fn):\n",
    "    train_loss_avg = []\n",
    "    validation_loss_avg = []\n",
    "    \n",
    "    for epoch in range(Epochs):\n",
    "        model.train()\n",
    "\n",
    "        train_loss_avg.append(0)\n",
    "        num_batches = 0\n",
    "        total = 0\n",
    "        correct = 0\n",
    "\n",
    "        for image_batch, label_batch in train_loader:\n",
    "            image_batch = image_batch.to(device)\n",
    "            label_batch = label_batch.to(device)\n",
    "            \n",
    "            label_batch_pred = model(image_batch)\n",
    "            loss = loss_fn(label_batch_pred, label_batch)\n",
    "\n",
    "            _, test = torch.max(label_batch.data, 1)\n",
    "            _, predicted = torch.max(label_batch_pred.data, 1)\n",
    "            total += label_batch.size(0)\n",
    "            correct += (predicted == test).sum().item()\n",
    "            \n",
    "            loss.backward()\n",
    "            optimizer.step()\n",
    "            optimizer.zero_grad()\n",
    "            \n",
    "            train_loss_avg[-1] += loss.item()\n",
    "            num_batches += 1\n",
    "\n",
    "        train_loss_avg[-1] /= num_batches\n",
    "        train_accuracy = 100.0 * correct / total \n",
    "\n",
    "        validation_loss_avg.append(0)\n",
    "        num_batches = 0\n",
    "        total = 0\n",
    "        correct = 0\n",
    "\n",
    "        model.eval()\n",
    "\n",
    "        with torch.no_grad():\n",
    "            for image_batch, label_batch in validation_loader:\n",
    "                image_batch = image_batch.to(device)\n",
    "                label_batch = label_batch.to(device)\n",
    "            \n",
    "                label_batch_pred = model(image_batch)\n",
    "                loss = loss_fn(label_batch_pred, label_batch)\n",
    "\n",
    "                _, test = torch.max(label_batch.data, 1)\n",
    "                _, predicted = torch.max(label_batch_pred.data, 1)\n",
    "                total += label_batch.size(0)\n",
    "                correct += (predicted == test).sum().item()\n",
    "\n",
    "                validation_loss_avg[-1] += loss.item()\n",
    "                num_batches += 1\n",
    "\n",
    "        validation_loss_avg[-1] /= num_batches\n",
    "        validation_accuracy = 100.0 * correct / total\n",
    "\n",
    "        print(f'Epoch [{epoch+1} / {Epochs}] training error: {train_loss_avg[-1]:.4f}, training accuracy: {train_accuracy:.4f}%, validation error: {validation_loss_avg[-1]:.4f}, validation accuracy: {validation_accuracy:.4f}%')\n",
    "      \n",
    "    return train_loss_avg, validation_loss_avg"
   ]
  },
  {
   "cell_type": "code",
   "execution_count": 104,
   "metadata": {},
   "outputs": [],
   "source": [
    "def training_model(model, epoch, loss, optimizer, train_loader):\n",
    "    training_loss, validation_loss = train(model,train_loader,epoch,loss)\n",
    "    \n",
    "    fig = plt.figure()\n",
    "    plt.plot(training_loss, label = 'Training Loss')\n",
    "    plt.plot(validation_loss, label = 'Validation Loss')\n",
    "    plt.title(\"Loss graphic\")\n",
    "    plt.xlabel('Epochs')\n",
    "    plt.ylabel('Loss')\n",
    "    plt.legend()\n",
    "    plt.show()"
   ]
  },
  {
   "cell_type": "code",
   "execution_count": 105,
   "metadata": {},
   "outputs": [],
   "source": [
    "def testing_model(model, test_loader):\n",
    "    model.eval()\n",
    "\n",
    "    correct = 0\n",
    "    total = 0\n",
    "    with torch.no_grad():\n",
    "        for image_batch, label_batch in test_loader:\n",
    "            image_batch = image_batch.to(device)\n",
    "\n",
    "            label_batch_pred = model(image_batch)\n",
    "\n",
    "            image_batch = image_batch.to('cpu')\n",
    "            label_batch_pred = label_batch_pred.to('cpu')\n",
    "\n",
    "            _, test = torch.max(label_batch.data, 1)\n",
    "            _, predicted = torch.max(label_batch_pred.data, 1)\n",
    "            total += label_batch.size(0)\n",
    "            correct += (predicted == test).sum().item()\n",
    "    print(f'Total tested: {total}')\n",
    "    print(f'Correct tested: {correct}')\n",
    "    print(f'Accuracy: {(100.0 * correct / total):.4f} %')"
   ]
  },
  {
   "cell_type": "code",
   "execution_count": 106,
   "metadata": {},
   "outputs": [],
   "source": [
    "class Lenet5_4_fc(nn.Module):\n",
    "    def __init__(self):\n",
    "        super(Lenet5_4_fc, self).__init__()\n",
    "        self.features = nn.Sequential(\n",
    "            nn.Conv2d(1, 6, kernel_size=(5, 5), stride=(1, 1), padding=(2, 2)),\n",
    "            nn.ReLU(inplace = True),\n",
    "            nn.MaxPool2d(kernel_size=2, stride=2, padding=0, dilation=1, ceil_mode=False),\n",
    "            nn.Conv2d(6, 16, kernel_size=(5, 5), stride=(1, 1), padding=(0, 0)),\n",
    "            nn.ReLU(inplace = True),\n",
    "            nn.MaxPool2d(kernel_size=2, stride=2, padding=0, dilation=1, ceil_mode=False),\n",
    "            nn.AdaptiveAvgPool2d(output_size=(5, 5))\n",
    "        )\n",
    "        self.classifier = nn.Sequential(\n",
    "            nn.Dropout(p=0.2, inplace = False),\n",
    "            nn.Linear(in_features=400, out_features=200, bias=True),\n",
    "            nn.ReLU(inplace = True),\n",
    "            nn.Dropout(p=0.2, inplace = False),\n",
    "            nn.Linear(in_features=200, out_features=100, bias=True),\n",
    "            nn.ReLU(inplace = True),\n",
    "            nn.Linear(in_features=100, out_features=50, bias=True),\n",
    "            nn.ReLU(inplace = True),\n",
    "            nn.Linear(in_features=50, out_features=26, bias=True)\n",
    "         )\n",
    "        \n",
    "    def forward(self, image):\n",
    "        out = self.features(image)\n",
    "        out = out.view(out.size(0), -1)\n",
    "        out = self.classifier(out)\n",
    "        return out"
   ]
  },
  {
   "cell_type": "code",
   "execution_count": 107,
   "metadata": {},
   "outputs": [
    {
     "name": "stdout",
     "output_type": "stream",
     "text": [
      "Epoch [1 / 20] training error: 0.2256, training accuracy: 93.4998%, validation error: 0.0940, validation accuracy: 97.2936%\n",
      "Epoch [2 / 20] training error: 0.1205, training accuracy: 96.6563%, validation error: 0.0668, validation accuracy: 98.2280%\n",
      "Epoch [3 / 20] training error: 0.1062, training accuracy: 97.0895%, validation error: 0.0677, validation accuracy: 98.1393%\n",
      "Epoch [4 / 20] training error: 0.0982, training accuracy: 97.3144%, validation error: 0.0650, validation accuracy: 98.2280%\n",
      "Epoch [5 / 20] training error: 0.0912, training accuracy: 97.5181%, validation error: 0.0575, validation accuracy: 98.4911%\n",
      "Epoch [6 / 20] training error: 0.0883, training accuracy: 97.6577%, validation error: 0.0610, validation accuracy: 98.4454%\n",
      "Epoch [7 / 20] training error: 0.0853, training accuracy: 97.6759%, validation error: 0.0519, validation accuracy: 98.6468%\n",
      "Epoch [8 / 20] training error: 0.0839, training accuracy: 97.7745%, validation error: 0.0635, validation accuracy: 98.3837%\n",
      "Epoch [9 / 20] training error: 0.0812, training accuracy: 97.7943%, validation error: 0.0548, validation accuracy: 98.6253%\n",
      "Epoch [10 / 20] training error: 0.0808, training accuracy: 97.8302%, validation error: 0.0589, validation accuracy: 98.5958%\n",
      "Epoch [11 / 20] training error: 0.0783, training accuracy: 97.9289%, validation error: 0.0552, validation accuracy: 98.5985%\n",
      "Epoch [12 / 20] training error: 0.0781, training accuracy: 97.9407%, validation error: 0.0561, validation accuracy: 98.5636%\n",
      "Epoch [13 / 20] training error: 0.0776, training accuracy: 97.9823%, validation error: 0.0529, validation accuracy: 98.6844%\n",
      "Epoch [14 / 20] training error: 0.0757, training accuracy: 97.9880%, validation error: 0.0464, validation accuracy: 98.8294%\n",
      "Epoch [15 / 20] training error: 0.0753, training accuracy: 98.0259%, validation error: 0.0540, validation accuracy: 98.6549%\n",
      "Epoch [16 / 20] training error: 0.0739, training accuracy: 98.0373%, validation error: 0.0511, validation accuracy: 98.7086%\n",
      "Epoch [17 / 20] training error: 0.0741, training accuracy: 98.0622%, validation error: 0.0481, validation accuracy: 98.8428%\n",
      "Epoch [18 / 20] training error: 0.0739, training accuracy: 98.0605%, validation error: 0.0472, validation accuracy: 98.7945%\n",
      "Epoch [19 / 20] training error: 0.0716, training accuracy: 98.1303%, validation error: 0.0461, validation accuracy: 98.8401%\n",
      "Epoch [20 / 20] training error: 0.0721, training accuracy: 98.1336%, validation error: 0.0520, validation accuracy: 98.7086%\n"
     ]
    },
    {
     "data": {
      "image/png": "[encoded data removed]",
      "text/plain": [
       "<Figure size 432x288 with 1 Axes>"
      ]
     },
     "metadata": {
      "needs_background": "light"
     },
     "output_type": "display_data"
    }
   ],
   "source": [
    "model = Lenet5_4_fc()\n",
    "model.to(device)\n",
    "loss = nn.CrossEntropyLoss()\n",
    "optimizer = torch.optim.Adam(params=model.parameters(), lr=0.001, weight_decay=1e-5)\n",
    "training_model(model, 20, loss, optimizer, train_loader)"
   ]
  },
  {
   "cell_type": "code",
   "execution_count": 108,
   "metadata": {},
   "outputs": [
    {
     "name": "stdout",
     "output_type": "stream",
     "text": [
      "Total tested: 37246\n",
      "Correct tested: 36754\n",
      "Accuracy: 98.6791 %\n"
     ]
    }
   ],
   "source": [
    "testing_model(model, test_loader)"
   ]
  },
  {
   "cell_type": "code",
   "execution_count": 109,
   "metadata": {},
   "outputs": [],
   "source": [
    "torch.save(model, PATH + '/Lenet5_4_fc.pt')"
   ]
  },
  {
   "cell_type": "code",
   "execution_count": 110,
   "metadata": {},
   "outputs": [],
   "source": [
    "class Lenet5_1_fc(nn.Module):\n",
    "    def __init__(self):\n",
    "        super(Lenet5_1_fc, self).__init__()\n",
    "        self.features = nn.Sequential(\n",
    "            nn.Conv2d(1, 6, kernel_size=(5, 5), stride=(1, 1), padding=(2, 2)),\n",
    "            nn.ReLU(inplace = True),\n",
    "            nn.MaxPool2d(kernel_size=2, stride=2, padding=0, dilation=1, ceil_mode=False),\n",
    "            nn.Conv2d(6, 16, kernel_size=(5, 5), stride=(1, 1), padding=(0, 0)),\n",
    "            nn.ReLU(inplace = True),\n",
    "            nn.MaxPool2d(kernel_size=2, stride=2, padding=0, dilation=1, ceil_mode=False),\n",
    "            nn.AdaptiveAvgPool2d(output_size=(5, 5))\n",
    "        )\n",
    "        self.classifier = nn.Sequential(\n",
    "            nn.Dropout(p=0.2, inplace = False),\n",
    "            nn.Linear(in_features=400, out_features=26, bias=True)\n",
    "         )\n",
    "        \n",
    "    def forward(self, image):\n",
    "        out = self.features(image)\n",
    "        out = out.view(out.size(0), -1)\n",
    "        out = self.classifier(out)\n",
    "        return out"
   ]
  },
  {
   "cell_type": "code",
   "execution_count": 111,
   "metadata": {},
   "outputs": [
    {
     "name": "stdout",
     "output_type": "stream",
     "text": [
      "Epoch [1 / 20] training error: 0.3817, training accuracy: 90.7931%, validation error: 0.1098, validation accuracy: 97.0707%\n",
      "Epoch [2 / 20] training error: 0.1411, training accuracy: 95.9709%, validation error: 0.1033, validation accuracy: 97.1325%\n",
      "Epoch [3 / 20] training error: 0.1230, training accuracy: 96.5281%, validation error: 0.0950, validation accuracy: 97.3741%\n",
      "Epoch [4 / 20] training error: 0.1150, training accuracy: 96.7311%, validation error: 0.0802, validation accuracy: 97.7876%\n",
      "Epoch [5 / 20] training error: 0.1102, training accuracy: 96.8509%, validation error: 0.0773, validation accuracy: 97.8896%\n",
      "Epoch [6 / 20] training error: 0.1079, training accuracy: 96.9264%, validation error: 0.0747, validation accuracy: 98.0534%\n",
      "Epoch [7 / 20] training error: 0.1046, training accuracy: 97.0553%, validation error: 0.0714, validation accuracy: 98.0695%\n",
      "Epoch [8 / 20] training error: 0.1039, training accuracy: 97.0660%, validation error: 0.0855, validation accuracy: 97.6050%\n",
      "Epoch [9 / 20] training error: 0.1018, training accuracy: 97.1043%, validation error: 0.0857, validation accuracy: 97.5272%\n",
      "Epoch [10 / 20] training error: 0.1013, training accuracy: 97.1406%, validation error: 0.0760, validation accuracy: 97.8950%\n",
      "Epoch [11 / 20] training error: 0.1012, training accuracy: 97.1261%, validation error: 0.0757, validation accuracy: 98.0561%\n",
      "Epoch [12 / 20] training error: 0.0992, training accuracy: 97.1976%, validation error: 0.0752, validation accuracy: 97.9568%\n",
      "Epoch [13 / 20] training error: 0.0996, training accuracy: 97.1664%, validation error: 0.0758, validation accuracy: 97.9836%\n",
      "Epoch [14 / 20] training error: 0.0986, training accuracy: 97.2345%, validation error: 0.0840, validation accuracy: 97.9299%\n",
      "Epoch [15 / 20] training error: 0.0991, training accuracy: 97.1922%, validation error: 0.0758, validation accuracy: 98.0776%\n",
      "Epoch [16 / 20] training error: 0.0985, training accuracy: 97.2204%, validation error: 0.0701, validation accuracy: 98.1528%\n",
      "Epoch [17 / 20] training error: 0.0987, training accuracy: 97.2016%, validation error: 0.0758, validation accuracy: 97.9809%\n",
      "Epoch [18 / 20] training error: 0.0983, training accuracy: 97.2369%, validation error: 0.0728, validation accuracy: 98.1447%\n",
      "Epoch [19 / 20] training error: 0.0986, training accuracy: 97.2151%, validation error: 0.0725, validation accuracy: 98.0534%\n",
      "Epoch [20 / 20] training error: 0.0975, training accuracy: 97.2788%, validation error: 0.0715, validation accuracy: 98.0910%\n"
     ]
    },
    {
     "data": {
      "image/png": "[encoded data removed]",
      "text/plain": [
       "<Figure size 432x288 with 1 Axes>"
      ]
     },
     "metadata": {
      "needs_background": "light"
     },
     "output_type": "display_data"
    }
   ],
   "source": [
    "model = Lenet5_1_fc()\n",
    "model.to(device)\n",
    "loss = nn.CrossEntropyLoss()\n",
    "optimizer = torch.optim.Adam(params=model.parameters(), lr=0.001, weight_decay=1e-5)\n",
    "training_model(model, 20, loss, optimizer, train_loader)"
   ]
  },
  {
   "cell_type": "code",
   "execution_count": 112,
   "metadata": {},
   "outputs": [
    {
     "name": "stdout",
     "output_type": "stream",
     "text": [
      "Total tested: 37246\n",
      "Correct tested: 36535\n",
      "Accuracy: 98.0911 %\n"
     ]
    }
   ],
   "source": [
    "testing_model(model, test_loader)"
   ]
  },
  {
   "cell_type": "code",
   "execution_count": 113,
   "metadata": {},
   "outputs": [],
   "source": [
    "torch.save(model, PATH + '/Lenet5_1_fc.pt')"
   ]
  },
  {
   "cell_type": "code",
   "execution_count": 116,
   "metadata": {},
   "outputs": [],
   "source": [
    "class AlexNet_5_fc(nn.Module):\n",
    "    def __init__(self):\n",
    "        super(AlexNet_5_fc, self).__init__()\n",
    "        self.features = nn.Sequential(\n",
    "            nn.Conv2d(1, 64, kernel_size=(5, 5), stride=(2, 2), padding=(2, 2)),\n",
    "            nn.ReLU(inplace = True),\n",
    "            nn.MaxPool2d(kernel_size=2, stride=2, padding=0, dilation=1, ceil_mode=False),\n",
    "            nn.Conv2d(64, 192, kernel_size=(5, 5), stride=(1, 1), padding=(2, 2)),\n",
    "            nn.ReLU(inplace = True),\n",
    "            nn.MaxPool2d(kernel_size=2, stride=2, padding=0, dilation=1, ceil_mode=False),\n",
    "            nn.Conv2d(192, 384, kernel_size=(3, 3), stride=(1, 1), padding=(1, 1)),\n",
    "            nn.ReLU(inplace = True),\n",
    "            nn.Conv2d(384, 256, kernel_size=(3, 3), stride=(1, 1), padding=(1, 1)),\n",
    "            nn.ReLU(inplace = True),\n",
    "            nn.Conv2d(256, 256, kernel_size=(3, 3), stride=(1, 1), padding=(1, 1)),\n",
    "            nn.ReLU(inplace = True),\n",
    "            nn.MaxPool2d(kernel_size=2, stride=1, padding=0, dilation=1, ceil_mode=False),\n",
    "            nn.AdaptiveAvgPool2d(output_size=(6, 6))\n",
    "        )\n",
    "        self.classifier = nn.Sequential(\n",
    "            nn.Dropout(p=0.2, inplace = False),\n",
    "            nn.Linear(in_features=9216, out_features=4096, bias=True),\n",
    "            nn.ReLU(inplace = True),\n",
    "            nn.Dropout(p=0.2, inplace = False),\n",
    "            nn.Linear(in_features=4096, out_features=2048, bias=True),\n",
    "            nn.ReLU(inplace = True),\n",
    "            nn.Linear(in_features=2048, out_features=1024, bias=True),\n",
    "            nn.ReLU(inplace = True),\n",
    "            nn.Linear(in_features=1024, out_features=256, bias=True),\n",
    "            nn.ReLU(inplace = True),\n",
    "            nn.Linear(in_features=256, out_features=26, bias=True)\n",
    "         )\n",
    "\n",
    "    def forward(self, image):\n",
    "        out = self.features(image)\n",
    "        out = out.view(out.size(0), -1)\n",
    "        out = self.classifier(out)\n",
    "        return out"
   ]
  },
  {
   "cell_type": "code",
   "execution_count": 117,
   "metadata": {},
   "outputs": [
    {
     "name": "stdout",
     "output_type": "stream",
     "text": [
      "Epoch [1 / 20] training error: 0.3833, training accuracy: 90.8166%, validation error: 0.1818, validation accuracy: 96.5338%\n",
      "Epoch [2 / 20] training error: 0.1628, training accuracy: 96.6986%, validation error: 0.1666, validation accuracy: 96.8103%\n",
      "Epoch [3 / 20] training error: 0.1372, training accuracy: 97.2886%, validation error: 0.1426, validation accuracy: 97.1164%\n",
      "Epoch [4 / 20] training error: 0.1275, training accuracy: 97.5077%, validation error: 0.1542, validation accuracy: 97.3070%\n",
      "Epoch [5 / 20] training error: 0.1231, training accuracy: 97.6000%, validation error: 0.1231, validation accuracy: 97.4789%\n",
      "Epoch [6 / 20] training error: 0.1166, training accuracy: 97.6779%, validation error: 0.0846, validation accuracy: 98.2226%\n",
      "Epoch [7 / 20] training error: 0.1174, training accuracy: 97.8021%, validation error: 0.1303, validation accuracy: 97.7527%\n",
      "Epoch [8 / 20] training error: 0.1192, training accuracy: 97.6967%, validation error: 0.1141, validation accuracy: 97.7984%\n",
      "Epoch [9 / 20] training error: 0.1059, training accuracy: 97.9571%, validation error: 0.1049, validation accuracy: 97.9917%\n",
      "Epoch [10 / 20] training error: 0.1165, training accuracy: 97.7245%, validation error: 0.1116, validation accuracy: 98.1367%\n",
      "Epoch [11 / 20] training error: 0.1273, training accuracy: 97.5544%, validation error: 0.1669, validation accuracy: 95.8411%\n",
      "Epoch [12 / 20] training error: 0.1276, training accuracy: 97.5856%, validation error: 0.1109, validation accuracy: 97.8037%\n",
      "Epoch [13 / 20] training error: 0.1357, training accuracy: 97.3392%, validation error: 0.1005, validation accuracy: 97.7769%\n",
      "Epoch [14 / 20] training error: 0.1347, training accuracy: 97.3795%, validation error: 0.1136, validation accuracy: 97.9783%\n",
      "Epoch [15 / 20] training error: 0.1807, training accuracy: 95.9310%, validation error: 0.1249, validation accuracy: 97.6722%\n",
      "Epoch [16 / 20] training error: 0.1336, training accuracy: 97.3627%, validation error: 0.2726, validation accuracy: 94.1979%\n",
      "Epoch [17 / 20] training error: 0.1473, training accuracy: 97.0671%, validation error: 0.1163, validation accuracy: 97.7608%\n",
      "Epoch [18 / 20] training error: 0.1300, training accuracy: 97.5467%, validation error: 0.2442, validation accuracy: 95.0195%\n",
      "Epoch [19 / 20] training error: 0.2135, training accuracy: 95.4118%, validation error: 0.1327, validation accuracy: 97.1432%\n",
      "Epoch [20 / 20] training error: 0.1680, training accuracy: 96.5670%, validation error: 0.1657, validation accuracy: 96.4640%\n"
     ]
    },
    {
     "data": {
      "image/png": "[encoded data removed]",
      "text/plain": [
       "<Figure size 432x288 with 1 Axes>"
      ]
     },
     "metadata": {
      "needs_background": "light"
     },
     "output_type": "display_data"
    }
   ],
   "source": [
    "model = AlexNet_5_fc()\n",
    "model.to(device)\n",
    "loss = nn.CrossEntropyLoss()\n",
    "optimizer = torch.optim.Adam(params=model.parameters(), lr=0.001, weight_decay=1e-5)\n",
    "training_model(model, 20, loss, optimizer, train_loader)"
   ]
  },
  {
   "cell_type": "code",
   "execution_count": 118,
   "metadata": {},
   "outputs": [
    {
     "name": "stdout",
     "output_type": "stream",
     "text": [
      "Total tested: 37246\n",
      "Correct tested: 35934\n",
      "Accuracy: 96.4775 %\n"
     ]
    }
   ],
   "source": [
    "testing_model(model, test_loader)"
   ]
  },
  {
   "cell_type": "code",
   "execution_count": 119,
   "metadata": {},
   "outputs": [],
   "source": [
    "torch.save(model, PATH + '/AlexNet_5_fc.pt')"
   ]
  },
  {
   "cell_type": "code",
   "execution_count": 120,
   "metadata": {},
   "outputs": [],
   "source": [
    "class AlexNet_2_fc(nn.Module):\n",
    "    def __init__(self):\n",
    "        super(AlexNet_2_fc, self).__init__()\n",
    "        self.features = nn.Sequential(\n",
    "            nn.Conv2d(1, 64, kernel_size=(5, 5), stride=(2, 2), padding=(2, 2)),\n",
    "            nn.ReLU(inplace = True),\n",
    "            nn.MaxPool2d(kernel_size=2, stride=2, padding=0, dilation=1, ceil_mode=False),\n",
    "            nn.Conv2d(64, 192, kernel_size=(5, 5), stride=(1, 1), padding=(2, 2)),\n",
    "            nn.ReLU(inplace = True),\n",
    "            nn.MaxPool2d(kernel_size=2, stride=2, padding=0, dilation=1, ceil_mode=False),\n",
    "            nn.Conv2d(192, 384, kernel_size=(3, 3), stride=(1, 1), padding=(1, 1)),\n",
    "            nn.ReLU(inplace = True),\n",
    "            nn.Conv2d(384, 256, kernel_size=(3, 3), stride=(1, 1), padding=(1, 1)),\n",
    "            nn.ReLU(inplace = True),\n",
    "            nn.Conv2d(256, 256, kernel_size=(3, 3), stride=(1, 1), padding=(1, 1)),\n",
    "            nn.ReLU(inplace = True),\n",
    "            nn.MaxPool2d(kernel_size=2, stride=1, padding=0, dilation=1, ceil_mode=False),\n",
    "            nn.AdaptiveAvgPool2d(output_size=(6, 6))\n",
    "        )\n",
    "        self.classifier = nn.Sequential(\n",
    "            nn.Dropout(p=0.2, inplace = False),\n",
    "            nn.Linear(in_features=9216, out_features=2048, bias=True),\n",
    "            nn.ReLU(inplace = True),\n",
    "            nn.Dropout(p=0.2, inplace = False),\n",
    "            nn.Linear(in_features=2048, out_features=26, bias=True)\n",
    "         )\n",
    "\n",
    "    def forward(self, image):\n",
    "        out = self.features(image)\n",
    "        out = out.view(out.size(0), -1)\n",
    "        out = self.classifier(out)\n",
    "        return out"
   ]
  },
  {
   "cell_type": "code",
   "execution_count": 121,
   "metadata": {},
   "outputs": [
    {
     "name": "stdout",
     "output_type": "stream",
     "text": [
      "Epoch [1 / 20] training error: 0.2488, training accuracy: 94.0881%, validation error: 0.2077, validation accuracy: 95.6531%\n",
      "Epoch [2 / 20] training error: 0.1457, training accuracy: 96.6616%, validation error: 0.1166, validation accuracy: 97.0815%\n",
      "Epoch [3 / 20] training error: 0.1303, training accuracy: 97.0164%, validation error: 0.1209, validation accuracy: 97.0090%\n",
      "Epoch [4 / 20] training error: 0.1273, training accuracy: 97.2080%, validation error: 0.0932, validation accuracy: 97.8547%\n",
      "Epoch [5 / 20] training error: 0.1185, training accuracy: 97.3147%, validation error: 0.1082, validation accuracy: 97.6077%\n",
      "Epoch [6 / 20] training error: 0.1178, training accuracy: 97.3752%, validation error: 0.1177, validation accuracy: 97.3876%\n",
      "Epoch [7 / 20] training error: 0.1109, training accuracy: 97.5477%, validation error: 0.0935, validation accuracy: 97.8145%\n",
      "Epoch [8 / 20] training error: 0.1046, training accuracy: 97.7010%, validation error: 0.1670, validation accuracy: 96.6519%\n",
      "Epoch [9 / 20] training error: 0.1027, training accuracy: 97.7514%, validation error: 0.1054, validation accuracy: 97.8601%\n",
      "Epoch [10 / 20] training error: 0.0969, training accuracy: 97.8913%, validation error: 0.0864, validation accuracy: 97.8762%\n",
      "Epoch [11 / 20] training error: 0.0932, training accuracy: 97.9531%, validation error: 0.0947, validation accuracy: 97.9541%\n",
      "Epoch [12 / 20] training error: 0.0961, training accuracy: 97.9259%, validation error: 0.0896, validation accuracy: 98.1179%\n",
      "Epoch [13 / 20] training error: 0.0935, training accuracy: 97.9984%, validation error: 0.1177, validation accuracy: 98.2065%\n",
      "Epoch [14 / 20] training error: 0.0909, training accuracy: 98.0561%, validation error: 0.1499, validation accuracy: 96.5418%\n",
      "Epoch [15 / 20] training error: 0.0880, training accuracy: 98.1219%, validation error: 0.0813, validation accuracy: 98.2092%\n",
      "Epoch [16 / 20] training error: 0.0944, training accuracy: 98.0810%, validation error: 0.1021, validation accuracy: 98.0749%\n",
      "Epoch [17 / 20] training error: 0.0844, training accuracy: 98.2256%, validation error: 0.1062, validation accuracy: 97.8950%\n",
      "Epoch [18 / 20] training error: 0.0893, training accuracy: 98.1541%, validation error: 0.0892, validation accuracy: 98.2602%\n",
      "Epoch [19 / 20] training error: 0.0883, training accuracy: 98.2202%, validation error: 0.1040, validation accuracy: 98.1608%\n",
      "Epoch [20 / 20] training error: 0.0916, training accuracy: 98.1672%, validation error: 0.0829, validation accuracy: 98.1528%\n"
     ]
    },
    {
     "data": {
      "image/png": "[encoded data removed]",
      "text/plain": [
       "<Figure size 432x288 with 1 Axes>"
      ]
     },
     "metadata": {
      "needs_background": "light"
     },
     "output_type": "display_data"
    }
   ],
   "source": [
    "model = AlexNet_2_fc()\n",
    "model.to(device)\n",
    "loss = nn.CrossEntropyLoss()\n",
    "optimizer = torch.optim.Adam(params=model.parameters(), lr=0.001, weight_decay=1e-5)\n",
    "training_model(model, 20, loss, optimizer, train_loader)"
   ]
  },
  {
   "cell_type": "code",
   "execution_count": 124,
   "metadata": {},
   "outputs": [
    {
     "name": "stdout",
     "output_type": "stream",
     "text": [
      "Total tested: 37246\n",
      "Correct tested: 36622\n",
      "Accuracy: 98.3247 %\n"
     ]
    }
   ],
   "source": [
    "testing_model(model, test_loader)"
   ]
  },
  {
   "cell_type": "code",
   "execution_count": 125,
   "metadata": {},
   "outputs": [],
   "source": [
    "torch.save(model, PATH + '/AlexNet_2_fc.pt')"
   ]
  },
  {
   "cell_type": "code",
   "execution_count": 126,
   "metadata": {},
   "outputs": [
    {
     "name": "stdout",
     "output_type": "stream",
     "text": [
      "Total tested: 37246\n",
      "Correct tested: 36535\n",
      "Accuracy: 98.0911 %\n"
     ]
    }
   ],
   "source": [
    "model = torch.load(PATH + '/Lenet5_1_fc.pt')\n",
    "model = model.to(device)\n",
    "testing_model(model, test_loader)"
   ]
  },
  {
   "cell_type": "code",
   "execution_count": 127,
   "metadata": {},
   "outputs": [
    {
     "name": "stdout",
     "output_type": "stream",
     "text": [
      "Total tested: 37246\n",
      "Correct tested: 36754\n",
      "Accuracy: 98.6791 %\n"
     ]
    }
   ],
   "source": [
    "model = torch.load(PATH + '/Lenet5_4_fc.pt')\n",
    "model = model.to(device)\n",
    "testing_model(model, test_loader)"
   ]
  },
  {
   "cell_type": "code",
   "execution_count": 128,
   "metadata": {},
   "outputs": [
    {
     "name": "stdout",
     "output_type": "stream",
     "text": [
      "Total tested: 37246\n",
      "Correct tested: 35934\n",
      "Accuracy: 96.4775 %\n"
     ]
    }
   ],
   "source": [
    "model = torch.load(PATH + '/Alexnet_5_fc.pt')\n",
    "model = model.to(device)\n",
    "testing_model(model, test_loader)"
   ]
  },
  {
   "cell_type": "code",
   "execution_count": 129,
   "metadata": {},
   "outputs": [
    {
     "name": "stdout",
     "output_type": "stream",
     "text": [
      "Total tested: 37246\n",
      "Correct tested: 36622\n",
      "Accuracy: 98.3247 %\n"
     ]
    }
   ],
   "source": [
    "model = torch.load(PATH + '/Alexnet_2_fc.pt')\n",
    "model = model.to(device)\n",
    "testing_model(model, test_loader)"
   ]
  }
 ],
 "metadata": {
  "kernelspec": {
   "display_name": "Python 3",
   "language": "python",
   "name": "python3"
  },
  "language_info": {
   "codemirror_mode": {
    "name": "ipython",
    "version": 3
   },
   "file_extension": ".py",
   "mimetype": "text/x-python",
   "name": "python",
   "nbconvert_exporter": "python",
   "pygments_lexer": "ipython3",
   "version": "3.8.5"
  },
  "vscode": {
   "interpreter": {
    "hash": "63224ea7c235bd7a2c0ba1f6ee739e2331add9735b424e21e1e192b9c2088aa5"
   }
  }
 },
 "nbformat": 4,
 "nbformat_minor": 4
}
