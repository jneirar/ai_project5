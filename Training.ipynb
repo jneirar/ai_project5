{
 "cells": [
  {
   "cell_type": "code",
   "execution_count": null,
   "metadata": {},
   "outputs": [],
   "source": [
    "!pip install opencv-python\n",
    "!pip install pandas\n",
    "!pip install matplotlib\n",
    "!pip install gdown\n",
    "!pip install sklearn\n",
    "!pip install scipy\n",
    "!pip3 install torch torchvision torchaudio --extra-index-url https://download.pytorch.org/whl/cu113"
   ]
  },
  {
   "cell_type": "code",
   "execution_count": 1,
   "metadata": {},
   "outputs": [],
   "source": [
    "import cv2\n",
    "import pandas as pd\n",
    "import numpy as np\n",
    "import matplotlib.pyplot as plt\n",
    "import os\n",
    "\n",
    "import gdown as gdown\n",
    "from sklearn.utils import shuffle\n",
    "from sklearn.model_selection import train_test_split\n",
    "from sklearn.preprocessing import MinMaxScaler\n",
    "\n",
    "import torch\n",
    "import torch.nn as nn\n",
    "import torchvision\n",
    "from torchvision import transforms, datasets\n",
    "import torch.nn.functional as F\n",
    "from torch.utils.data import DataLoader,Dataset\n",
    "from torchvision.transforms.transforms import Normalize"
   ]
  },
  {
   "cell_type": "code",
   "execution_count": 2,
   "metadata": {},
   "outputs": [
    {
     "name": "stderr",
     "output_type": "stream",
     "text": [
      "Downloading...\n",
      "From: https://drive.google.com/uc?export=download&id=1UGNAWPEe2YtkZNx3chPJRNbJMyHXU3Z6\n",
      "To: C:\\Users\\Jorge\\AI\\A_Z Handwritten Data.csv\n",
      "100%|██████████| 699M/699M [00:50<00:00, 13.7MB/s] \n"
     ]
    },
    {
     "data": {
      "text/plain": [
       "'A_Z Handwritten Data.csv'"
      ]
     },
     "execution_count": 2,
     "metadata": {},
     "output_type": "execute_result"
    }
   ],
   "source": [
    "url =  'https://drive.google.com/uc?export=download&id=1UGNAWPEe2YtkZNx3chPJRNbJMyHXU3Z6'\n",
    "output = 'A_Z Handwritten Data.csv'\n",
    "gdown.download(url, output, quiet=False)\n"
   ]
  },
  {
   "cell_type": "code",
   "execution_count": 2,
   "metadata": {},
   "outputs": [
    {
     "name": "stdout",
     "output_type": "stream",
     "text": [
      "(372451, 785)\n"
     ]
    }
   ],
   "source": [
    "PATH = os.getcwd()\n",
    "data = pd.read_csv(PATH + \"/A_Z Handwritten Data.csv\", header=None).astype('float32').to_numpy()\n",
    "# column 0 = label\n",
    "print(data.shape)"
   ]
  },
  {
   "cell_type": "code",
   "execution_count": 3,
   "metadata": {},
   "outputs": [
    {
     "name": "stdout",
     "output_type": "stream",
     "text": [
      "(372451, 784)\n",
      "(372451, 26)\n"
     ]
    }
   ],
   "source": [
    "np.random.shuffle(data)\n",
    "x_data = data[:, 1:]\n",
    "labels = data[:, 0]\n",
    "y_data = []\n",
    "for i in labels:\n",
    "  labels_v = np.zeros(26, dtype=np.float32)\n",
    "  labels_v[int(i)] = 1\n",
    "  y_data.append(labels_v)\n",
    "y_data = np.array(y_data)\n",
    "normalizer = MinMaxScaler()\n",
    "normalizer.fit(x_data)\n",
    "print(x_data.shape)\n",
    "print(y_data.shape)"
   ]
  },
  {
   "cell_type": "code",
   "execution_count": 4,
   "metadata": {},
   "outputs": [
    {
     "name": "stdout",
     "output_type": "stream",
     "text": [
      "14 12 15 10 21 15 17 20 3 20 "
     ]
    },
    {
     "data": {
      "image/png": "[encoded data removed]",
      "text/plain": [
       "<Figure size 3600x720 with 10 Axes>"
      ]
     },
     "metadata": {
      "needs_background": "light"
     },
     "output_type": "display_data"
    }
   ],
   "source": [
    "plt.figure(figsize = (50, 10))\n",
    "r, c = 1, 10\n",
    "for i in range(r * c):  \n",
    "    plt.subplot(r, c, i+1)\n",
    "    plt.imshow(x_data[i].reshape(28,28), cmap='gray')\n",
    "    print(np.argmax(y_data[i]), end = \" \")\n",
    "plt.show()"
   ]
  },
  {
   "cell_type": "code",
   "execution_count": 5,
   "metadata": {},
   "outputs": [],
   "source": [
    "transform = transforms.ToTensor()\n",
    "data_set = []\n",
    "for i in range(x_data.shape[0]):\n",
    "  data_set.append(( transform(x_data[i].reshape(28, 28)), torch.tensor(y_data[i]) ))"
   ]
  },
  {
   "cell_type": "code",
   "execution_count": 6,
   "metadata": {},
   "outputs": [
    {
     "name": "stdout",
     "output_type": "stream",
     "text": [
      "train set length: 297960\n",
      "validation set length: 37245\n",
      "test set length: 37246\n",
      "set type: <class 'list'>\n",
      "data set type: <class 'tuple'>\n",
      "first data set type: <class 'torch.Tensor'>\n",
      "first data shape: torch.Size([1, 28, 28])\n",
      "second data set type: <class 'torch.Tensor'>\n",
      "second data shape: torch.Size([26])\n"
     ]
    }
   ],
   "source": [
    "n_train = int(0.8 * len(x_data))\n",
    "n_validation = int(0.1 * len(x_data))\n",
    "train_set = data_set[:n_train]\n",
    "validation_set = data_set[n_train:n_train + n_validation]\n",
    "test_set = data_set[n_train + n_validation:]\n",
    "\n",
    "print(\"train set length:\", len(train_set))\n",
    "print(\"validation set length:\", len(validation_set))\n",
    "print(\"test set length:\", len(test_set))\n",
    "print(\"set type:\", type(train_set))\n",
    "print(\"data set type:\", type(train_set[0]))\n",
    "a, b = train_set[0] \n",
    "print(\"first data set type:\", type(a))\n",
    "print(\"first data shape:\", a.shape)\n",
    "print(\"second data set type:\", type(b))\n",
    "print(\"second data shape:\", b.shape)"
   ]
  },
  {
   "cell_type": "code",
   "execution_count": 7,
   "metadata": {},
   "outputs": [
    {
     "name": "stdout",
     "output_type": "stream",
     "text": [
      "cuda:0\n"
     ]
    }
   ],
   "source": [
    "device = torch.device('cuda:0' if torch.cuda.is_available() else 'cpu')\n",
    "print(device)\n",
    "\n",
    "batch_size = 64\n",
    "\n",
    "train_loader = torch.utils.data.DataLoader(dataset=train_set, batch_size=batch_size, shuffle=True)\n",
    "validation_loader = torch.utils.data.DataLoader(dataset=validation_set, batch_size=batch_size, shuffle=True)\n",
    "test_loader = torch.utils.data.DataLoader(dataset=test_set, batch_size=batch_size, shuffle=False)"
   ]
  },
  {
   "cell_type": "code",
   "execution_count": 8,
   "metadata": {},
   "outputs": [],
   "source": [
    "class Lenet5(nn.Module):\n",
    "    def __init__(self):\n",
    "        super(Lenet5, self).__init__()\n",
    "        '''self.layer1 = nn.Sequential(\n",
    "            nn.Conv2d(in_channels=1, out_channels=6, kernel_size=5, stride=1, padding=2),\n",
    "            nn.BatchNorm2d(6)\n",
    "        )\n",
    "        self.avgpool1 = nn.AvgPool2d(kernel_size = 2, stride = 2)\n",
    "        self.layer2 = nn.Sequential(\n",
    "            nn.Conv2d(in_channels=6, out_channels=16, kernel_size=5, stride=1, padding=0),\n",
    "            nn.BatchNorm2d(16)\n",
    "        )\n",
    "        self.avgpool2 = nn.AvgPool2d(kernel_size = 2, stride = 2)'''\n",
    "        self.conv1 = nn.Conv2d(in_channels=1, out_channels=6, kernel_size=5, stride=1, padding=2)\n",
    "        self.avgpool1 = nn.AvgPool2d(kernel_size = 2, stride = 2)\n",
    "        self.conv2 = nn.Conv2d(in_channels=6, out_channels=16, kernel_size=5, stride=1, padding=0)\n",
    "        self.avgpool2 = nn.AvgPool2d(kernel_size = 2, stride = 2)\n",
    "        self.fc1 = nn.Linear(in_features=400, out_features=120)\n",
    "        self.fc2 = nn.Linear(in_features=120, out_features=84)\n",
    "        self.fc3 = nn.Linear(in_features=84, out_features=26)\n",
    "\n",
    "    def forward(self, image):\n",
    "        debug = 0\n",
    "        if(debug):\n",
    "            print(\"****************************************************************\")\n",
    "            print(\"image\",image.shape)\n",
    "        out = F.relu(self.conv1(image))\n",
    "        if(debug):\n",
    "            print(\"conv1\",out.shape)\n",
    "        out = self.avgpool1(out)\n",
    "        if(debug):\n",
    "            print(\"avgpool1\",out.shape)\n",
    "        out = F.relu(self.conv2(out))\n",
    "        if(debug):\n",
    "            print(\"convolucion2\",out.shape)\n",
    "        out = self.avgpool2(out)\n",
    "        if(debug):\n",
    "            print(\"avgpool2\",out.shape)\n",
    "        '''out = F.relu(self.layer1(image))\n",
    "        out = self.avgpool1(out)\n",
    "        out = F.relu(self.layer2(out))\n",
    "        out = self.avgpool2(out)'''\n",
    "        out = out.view(out.size(0), -1)\n",
    "        if(debug):\n",
    "            print(\"MLP\",out.shape)\n",
    "        out = F.relu(self.fc1(out))\n",
    "        out = F.relu(self.fc2(out))\n",
    "        out = F.relu(self.fc3(out))\n",
    "        z = F.softmax(out, dim = 1)\n",
    "        if(debug):\n",
    "            print(\"z\", z.shape)\n",
    "            print(\"z[0]\", z[0])\n",
    "            print(\"z[0] sum\", z[0].sum())\n",
    "            print(\"z[1] sum\", z[1].sum())\n",
    "        return z"
   ]
  },
  {
   "cell_type": "code",
   "execution_count": 9,
   "metadata": {},
   "outputs": [],
   "source": [
    "def train(model, train_loader, Epochs, loss_fn):\n",
    "    train_loss_avg = []\n",
    "    validation_loss_avg = []\n",
    "    \n",
    "    for epoch in range(Epochs):\n",
    "        model.train()\n",
    "\n",
    "        train_loss_avg.append(0)\n",
    "        num_batches = 0\n",
    "        total = 0\n",
    "        correct = 0\n",
    "\n",
    "        for image_batch, label_batch in train_loader:\n",
    "            image_batch = image_batch.to(device)\n",
    "            label_batch = label_batch.to(device)\n",
    "            \n",
    "            label_batch_pred = model(image_batch)\n",
    "            loss = loss_fn(label_batch, label_batch_pred)\n",
    "\n",
    "            _, test = torch.max(label_batch.data, 1)\n",
    "            _, predicted = torch.max(label_batch_pred.data, 1)\n",
    "            total += label_batch.size(0)\n",
    "            correct += (predicted == test).sum().item()\n",
    "            \n",
    "            optimizer.zero_grad()\n",
    "            loss.backward()\n",
    "            optimizer.step()\n",
    "            \n",
    "            train_loss_avg[-1] += loss.item()\n",
    "            num_batches += 1\n",
    "\n",
    "        train_loss_avg[-1] /= num_batches\n",
    "        train_accuracy = 100.0 * correct / total \n",
    "\n",
    "        validation_loss_avg.append(0)\n",
    "        num_batches = 0\n",
    "        total = 0\n",
    "        correct = 0\n",
    "\n",
    "        model.eval()\n",
    "\n",
    "        with torch.no_grad():\n",
    "            for image_batch, label_batch in test_loader:\n",
    "                image_batch = image_batch.to(device)\n",
    "                label_batch = label_batch.to(device)\n",
    "            \n",
    "                label_batch_pred = model(image_batch)\n",
    "                loss = loss_fn(label_batch, label_batch_pred)\n",
    "\n",
    "                _, test = torch.max(label_batch.data, 1)\n",
    "                _, predicted = torch.max(label_batch_pred.data, 1)\n",
    "                total += label_batch.size(0)\n",
    "                correct += (predicted == test).sum().item()\n",
    "\n",
    "                validation_loss_avg[-1] += loss.item()\n",
    "                num_batches += 1\n",
    "\n",
    "        validation_loss_avg[-1] /= num_batches\n",
    "        validation_accuracy = 100.0 * correct / total\n",
    "\n",
    "        print(f'Epoch [{epoch+1} / {Epochs}] training error: {train_loss_avg[-1]:.4f}, training accuracy: {train_accuracy:.4f}%, validation error: {validation_loss_avg[-1]:.4f}, validation accuracy: {validation_accuracy:.4f}%')\n",
    "      \n",
    "    return train_loss_avg, validation_loss_avg"
   ]
  },
  {
   "cell_type": "code",
   "execution_count": null,
   "metadata": {},
   "outputs": [
    {
     "name": "stdout",
     "output_type": "stream",
     "text": [
      "Epoch [1 / 10] training error: 3.1924, training accuracy: 12.9736%, validation error: 3.1910, validation accuracy: 13.1101%\n",
      "Epoch [2 / 10] training error: 3.1923, training accuracy: 12.9830%, validation error: 3.1910, validation accuracy: 13.1101%\n",
      "Epoch [3 / 10] training error: 3.1923, training accuracy: 12.9789%, validation error: 3.1910, validation accuracy: 13.1101%\n"
     ]
    }
   ],
   "source": [
    "capacity = 64\n",
    "learning_rate = 0.02\n",
    "\n",
    "model = Lenet5()\n",
    "model.to(device)\n",
    "loss = nn.CrossEntropyLoss()\n",
    "optimizer = torch.optim.Adam(params=model.parameters(), lr=learning_rate, weight_decay=1e-5)\n",
    "\n",
    "training_loss, validation_loss = train(model,train_loader,10,loss)"
   ]
  },
  {
   "cell_type": "code",
   "execution_count": 47,
   "metadata": {},
   "outputs": [
    {
     "data": {
      "image/png": "[encoded data removed]",
      "text/plain": [
       "<Figure size 432x288 with 1 Axes>"
      ]
     },
     "metadata": {
      "needs_background": "light"
     },
     "output_type": "display_data"
    }
   ],
   "source": [
    "fig = plt.figure()\n",
    "plt.plot(training_loss)\n",
    "plt.plot(validation_loss)\n",
    "plt.xlabel('Epochs')\n",
    "plt.ylabel('Error')\n",
    "plt.show()"
   ]
  },
  {
   "cell_type": "code",
   "execution_count": 48,
   "metadata": {},
   "outputs": [
    {
     "name": "stdout",
     "output_type": "stream",
     "text": [
      "Total tested: 37246\n",
      "Correct tested: 31261\n",
      "Accuracy: 83 %\n"
     ]
    }
   ],
   "source": [
    "model.eval()\n",
    "\n",
    "correct = 0\n",
    "total = 0\n",
    "with torch.no_grad():\n",
    "    for image_batch, label_batch in test_loader:\n",
    "        image_batch = image_batch.to(device)\n",
    "    \n",
    "        label_batch_pred = model(image_batch)\n",
    "\n",
    "        image_batch = image_batch.to('cpu')\n",
    "        label_batch_pred = label_batch_pred.to('cpu')\n",
    "\n",
    "        _, test = torch.max(label_batch.data, 1)\n",
    "        _, predicted = torch.max(label_batch_pred.data, 1)\n",
    "        total += label_batch.size(0)\n",
    "        correct += (predicted == test).sum().item()\n",
    "print(f'Total tested: {total}')\n",
    "print(f'Correct tested: {correct}')\n",
    "print(f'Accuracy: {100 * correct // total} %')"
   ]
  },
  {
   "cell_type": "code",
   "execution_count": null,
   "metadata": {},
   "outputs": [],
   "source": []
  },
  {
   "cell_type": "code",
   "execution_count": null,
   "metadata": {},
   "outputs": [],
   "source": []
  },
  {
   "cell_type": "code",
   "execution_count": null,
   "metadata": {},
   "outputs": [],
   "source": []
  }
 ],
 "metadata": {
  "kernelspec": {
   "display_name": "Python 3",
   "language": "python",
   "name": "python3"
  },
  "language_info": {
   "codemirror_mode": {
    "name": "ipython",
    "version": 3
   },
   "file_extension": ".py",
   "mimetype": "text/x-python",
   "name": "python",
   "nbconvert_exporter": "python",
   "pygments_lexer": "ipython3",
   "version": "3.8.5"
  },
  "vscode": {
   "interpreter": {
    "hash": "63224ea7c235bd7a2c0ba1f6ee739e2331add9735b424e21e1e192b9c2088aa5"
   }
  }
 },
 "nbformat": 4,
 "nbformat_minor": 4
}
