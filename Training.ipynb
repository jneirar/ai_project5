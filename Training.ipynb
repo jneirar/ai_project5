{
 "cells": [
  {
   "cell_type": "code",
   "execution_count": null,
   "metadata": {},
   "outputs": [],
   "source": [
    "!pip install opencv-python\n",
    "!pip install pandas\n",
    "!pip install matplotlib\n",
    "!pip install gdown\n",
    "!pip install sklearn\n",
    "!pip install scipy\n",
    "!pip3 install torch torchvision torchaudio --extra-index-url https://download.pytorch.org/whl/cu113"
   ]
  },
  {
   "cell_type": "code",
   "execution_count": 1,
   "metadata": {},
   "outputs": [],
   "source": [
    "import cv2\n",
    "import pandas as pd\n",
    "import numpy as np\n",
    "import matplotlib.pyplot as plt\n",
    "import os\n",
    "\n",
    "import gdown as gdown\n",
    "from sklearn.utils import shuffle\n",
    "from sklearn.model_selection import train_test_split\n",
    "from sklearn.preprocessing import MinMaxScaler\n",
    "\n",
    "import torch\n",
    "import torch.nn as nn\n",
    "import torchvision\n",
    "from torchvision import transforms, datasets\n",
    "import torch.nn.functional as F\n",
    "from torch.utils.data import DataLoader,Dataset\n",
    "from torchvision.transforms.transforms import Normalize"
   ]
  },
  {
   "cell_type": "code",
   "execution_count": 2,
   "metadata": {},
   "outputs": [
    {
     "name": "stderr",
     "output_type": "stream",
     "text": [
      "Downloading...\n",
      "From: https://drive.google.com/uc?export=download&id=1UGNAWPEe2YtkZNx3chPJRNbJMyHXU3Z6\n",
      "To: C:\\Users\\Jorge\\AI\\A_Z Handwritten Data.csv\n",
      "100%|██████████| 699M/699M [00:50<00:00, 13.7MB/s] \n"
     ]
    },
    {
     "data": {
      "text/plain": [
       "'A_Z Handwritten Data.csv'"
      ]
     },
     "execution_count": 2,
     "metadata": {},
     "output_type": "execute_result"
    }
   ],
   "source": [
    "url =  'https://drive.google.com/uc?export=download&id=1UGNAWPEe2YtkZNx3chPJRNbJMyHXU3Z6'\n",
    "output = 'A_Z Handwritten Data.csv'\n",
    "gdown.download(url, output, quiet=False)\n"
   ]
  },
  {
   "cell_type": "code",
   "execution_count": 110,
   "metadata": {},
   "outputs": [
    {
     "name": "stdout",
     "output_type": "stream",
     "text": [
      "(372451, 785)\n"
     ]
    }
   ],
   "source": [
    "PATH = os.getcwd()\n",
    "data = pd.read_csv(PATH + \"/A_Z Handwritten Data.csv\", header=None).astype('float32').to_numpy()\n",
    "# column 0 = label\n",
    "print(data.shape)"
   ]
  },
  {
   "cell_type": "code",
   "execution_count": 111,
   "metadata": {},
   "outputs": [
    {
     "name": "stdout",
     "output_type": "stream",
     "text": [
      "(372451, 784)\n",
      "(372451, 26)\n"
     ]
    }
   ],
   "source": [
    "np.random.shuffle(data)\n",
    "x_data = data[:, 1:]\n",
    "labels = data[:, 0]\n",
    "y_data = []\n",
    "for i in labels:\n",
    "  labels_v = np.zeros(26, dtype=np.float32)\n",
    "  labels_v[int(i)] = 1\n",
    "  y_data.append(labels_v)\n",
    "y_data = np.array(y_data)\n",
    "normalizer = MinMaxScaler()\n",
    "normalizer.fit(x_data)\n",
    "print(x_data.shape)\n",
    "print(y_data.shape)"
   ]
  },
  {
   "cell_type": "code",
   "execution_count": 112,
   "metadata": {},
   "outputs": [
    {
     "name": "stdout",
     "output_type": "stream",
     "text": [
      "17 14 18 2 12 9 19 18 20 18 "
     ]
    },
    {
     "data": {
      "image/png": "[encoded data removed]",
      "text/plain": [
       "<Figure size 3600x720 with 10 Axes>"
      ]
     },
     "metadata": {
      "needs_background": "light"
     },
     "output_type": "display_data"
    }
   ],
   "source": [
    "plt.figure(figsize = (50, 10))\n",
    "r, c = 1, 10\n",
    "for i in range(r * c):  \n",
    "    plt.subplot(r, c, i+1)\n",
    "    plt.imshow(x_data[i].reshape(28,28), cmap='gray')\n",
    "    print(np.argmax(y_data[i]), end = \" \")\n",
    "plt.show()"
   ]
  },
  {
   "cell_type": "code",
   "execution_count": 113,
   "metadata": {},
   "outputs": [
    {
     "name": "stdout",
     "output_type": "stream",
     "text": [
      "cuda:0\n"
     ]
    }
   ],
   "source": [
    "device = torch.device('cuda:0' if torch.cuda.is_available() else 'cpu')\n",
    "print(device)"
   ]
  },
  {
   "cell_type": "code",
   "execution_count": 114,
   "metadata": {},
   "outputs": [],
   "source": [
    "transformToTensor = transforms.ToTensor()\n",
    "data_set = []\n",
    "for i in range(x_data.shape[0]):\n",
    "    data_set.append(( transformToTensor(x_data[i].reshape(28, 28)), torch.tensor(y_data[i]) ))"
   ]
  },
  {
   "cell_type": "code",
   "execution_count": 115,
   "metadata": {},
   "outputs": [
    {
     "name": "stdout",
     "output_type": "stream",
     "text": [
      "train set length: 297960\n",
      "validation set length: 37245\n",
      "test set length: 37246\n",
      "set type: <class 'list'>\n",
      "data set type: <class 'tuple'>\n",
      "first data set type: <class 'torch.Tensor'>\n",
      "first data shape: torch.Size([1, 28, 28])\n",
      "second data set type: <class 'torch.Tensor'>\n",
      "second data shape: torch.Size([26])\n"
     ]
    }
   ],
   "source": [
    "n_train = int(0.8 * len(x_data))\n",
    "n_validation = int(0.1 * len(x_data))\n",
    "train_set = data_set[:n_train]\n",
    "validation_set = data_set[n_train:n_train + n_validation]\n",
    "test_set = data_set[n_train + n_validation:]\n",
    "\n",
    "print(\"train set length:\", len(train_set))\n",
    "print(\"validation set length:\", len(validation_set))\n",
    "print(\"test set length:\", len(test_set))\n",
    "print(\"set type:\", type(train_set))\n",
    "print(\"data set type:\", type(train_set[0]))\n",
    "a, b = train_set[0] \n",
    "print(\"first data set type:\", type(a))\n",
    "print(\"first data shape:\", a.shape)\n",
    "print(\"second data set type:\", type(b))\n",
    "print(\"second data shape:\", b.shape)"
   ]
  },
  {
   "cell_type": "code",
   "execution_count": 116,
   "metadata": {},
   "outputs": [],
   "source": [
    "batch_size = 64\n",
    "\n",
    "train_loader = torch.utils.data.DataLoader(dataset=train_set, batch_size=batch_size, shuffle=True)\n",
    "validation_loader = torch.utils.data.DataLoader(dataset=validation_set, batch_size=batch_size, shuffle=True)\n",
    "test_loader = torch.utils.data.DataLoader(dataset=test_set, batch_size=batch_size, shuffle=False)"
   ]
  },
  {
   "cell_type": "code",
   "execution_count": 118,
   "metadata": {},
   "outputs": [],
   "source": [
    "def train(model, train_loader, Epochs, loss_fn):\n",
    "    train_loss_avg = []\n",
    "    validation_loss_avg = []\n",
    "    \n",
    "    for epoch in range(Epochs):\n",
    "        model.train()\n",
    "\n",
    "        train_loss_avg.append(0)\n",
    "        num_batches = 0\n",
    "        total = 0\n",
    "        correct = 0\n",
    "\n",
    "        for image_batch, label_batch in train_loader:\n",
    "            image_batch = image_batch.to(device)\n",
    "            label_batch = label_batch.to(device)\n",
    "            \n",
    "            label_batch_pred = model(image_batch)\n",
    "            loss = loss_fn(label_batch_pred, label_batch)\n",
    "\n",
    "            _, test = torch.max(label_batch.data, 1)\n",
    "            _, predicted = torch.max(label_batch_pred.data, 1)\n",
    "            total += label_batch.size(0)\n",
    "            correct += (predicted == test).sum().item()\n",
    "            \n",
    "            loss.backward()\n",
    "            optimizer.step()\n",
    "            optimizer.zero_grad()\n",
    "            \n",
    "            train_loss_avg[-1] += loss.item()\n",
    "            num_batches += 1\n",
    "\n",
    "        train_loss_avg[-1] /= num_batches\n",
    "        train_accuracy = 100.0 * correct / total \n",
    "\n",
    "        validation_loss_avg.append(0)\n",
    "        num_batches = 0\n",
    "        total = 0\n",
    "        correct = 0\n",
    "\n",
    "        model.eval()\n",
    "\n",
    "        with torch.no_grad():\n",
    "            for image_batch, label_batch in validation_loader:\n",
    "                image_batch = image_batch.to(device)\n",
    "                label_batch = label_batch.to(device)\n",
    "            \n",
    "                label_batch_pred = model(image_batch)\n",
    "                loss = loss_fn(label_batch_pred, label_batch)\n",
    "\n",
    "                _, test = torch.max(label_batch.data, 1)\n",
    "                _, predicted = torch.max(label_batch_pred.data, 1)\n",
    "                total += label_batch.size(0)\n",
    "                correct += (predicted == test).sum().item()\n",
    "\n",
    "                validation_loss_avg[-1] += loss.item()\n",
    "                num_batches += 1\n",
    "\n",
    "        validation_loss_avg[-1] /= num_batches\n",
    "        validation_accuracy = 100.0 * correct / total\n",
    "\n",
    "        print(f'Epoch [{epoch+1} / {Epochs}] training error: {train_loss_avg[-1]:.4f}, training accuracy: {train_accuracy:.4f}%, validation error: {validation_loss_avg[-1]:.4f}, validation accuracy: {validation_accuracy:.4f}%')\n",
    "      \n",
    "    return train_loss_avg, validation_loss_avg"
   ]
  },
  {
   "cell_type": "code",
   "execution_count": 126,
   "metadata": {},
   "outputs": [],
   "source": [
    "class Lenet5(nn.Module):\n",
    "    def __init__(self):\n",
    "        super(Lenet5, self).__init__()\n",
    "        self.features = nn.Sequential(\n",
    "            nn.Conv2d(1, 6, kernel_size=(5, 5), stride=(1, 1), padding=(2, 2)),\n",
    "            nn.ReLU(inplace = True),\n",
    "            nn.MaxPool2d(kernel_size=2, stride=2, padding=0, dilation=1, ceil_mode=False),\n",
    "            nn.Conv2d(6, 16, kernel_size=(5, 5), stride=(1, 1), padding=(0, 0)),\n",
    "            nn.ReLU(inplace = True),\n",
    "            nn.MaxPool2d(kernel_size=2, stride=2, padding=0, dilation=1, ceil_mode=False),\n",
    "            nn.AdaptiveAvgPool2d(output_size=(5, 5))\n",
    "        )\n",
    "        self.classifier = nn.Sequential(\n",
    "            nn.Dropout(p=0.1, inplace = False),\n",
    "            nn.Linear(in_features=400, out_features=100, bias=True),\n",
    "            nn.ReLU(inplace = True),\n",
    "            nn.Dropout(p=0.1, inplace = False),\n",
    "            nn.Linear(in_features=100, out_features=26, bias=True),\n",
    "         )\n",
    "        \n",
    "    def forward(self, image):\n",
    "        out = self.features(image)\n",
    "        out = out.view(out.size(0), -1)\n",
    "        out = self.classifier(out)\n",
    "        return out"
   ]
  },
  {
   "cell_type": "code",
   "execution_count": 128,
   "metadata": {},
   "outputs": [
    {
     "name": "stdout",
     "output_type": "stream",
     "text": [
      "Epoch [1 / 20] training error: 0.2314, training accuracy: 93.5787%, validation error: 0.0892, validation accuracy: 97.3473%\n",
      "Epoch [2 / 20] training error: 0.1116, training accuracy: 96.7751%, validation error: 0.0708, validation accuracy: 97.9487%\n",
      "Epoch [3 / 20] training error: 0.0965, training accuracy: 97.2308%, validation error: 0.0667, validation accuracy: 98.1018%\n",
      "Epoch [4 / 20] training error: 0.0882, training accuracy: 97.4312%, validation error: 0.0644, validation accuracy: 98.2360%\n",
      "Epoch [5 / 20] training error: 0.0837, training accuracy: 97.5983%, validation error: 0.0606, validation accuracy: 98.2441%\n",
      "Epoch [6 / 20] training error: 0.0805, training accuracy: 97.6903%, validation error: 0.0707, validation accuracy: 98.0024%\n",
      "Epoch [7 / 20] training error: 0.0780, training accuracy: 97.7551%, validation error: 0.0557, validation accuracy: 98.4481%\n",
      "Epoch [8 / 20] training error: 0.0756, training accuracy: 97.8232%, validation error: 0.0590, validation accuracy: 98.2763%\n",
      "Epoch [9 / 20] training error: 0.0741, training accuracy: 97.8759%, validation error: 0.0586, validation accuracy: 98.3864%\n",
      "Epoch [10 / 20] training error: 0.0718, training accuracy: 97.9168%, validation error: 0.0497, validation accuracy: 98.5179%\n",
      "Epoch [11 / 20] training error: 0.0717, training accuracy: 97.9101%, validation error: 0.0531, validation accuracy: 98.4293%\n",
      "Epoch [12 / 20] training error: 0.0712, training accuracy: 97.9215%, validation error: 0.0535, validation accuracy: 98.5582%\n",
      "Epoch [13 / 20] training error: 0.0712, training accuracy: 97.9611%, validation error: 0.0665, validation accuracy: 98.3407%\n",
      "Epoch [14 / 20] training error: 0.0702, training accuracy: 97.9658%, validation error: 0.0583, validation accuracy: 98.3944%\n",
      "Epoch [15 / 20] training error: 0.0686, training accuracy: 98.0195%, validation error: 0.0610, validation accuracy: 98.3461%\n",
      "Epoch [16 / 20] training error: 0.0688, training accuracy: 98.0209%, validation error: 0.0544, validation accuracy: 98.4562%\n",
      "Epoch [17 / 20] training error: 0.0685, training accuracy: 98.0108%, validation error: 0.0577, validation accuracy: 98.3890%\n",
      "Epoch [18 / 20] training error: 0.0667, training accuracy: 98.0917%, validation error: 0.0495, validation accuracy: 98.5636%\n",
      "Epoch [19 / 20] training error: 0.0667, training accuracy: 98.0997%, validation error: 0.0565, validation accuracy: 98.4857%\n",
      "Epoch [20 / 20] training error: 0.0669, training accuracy: 98.0813%, validation error: 0.0639, validation accuracy: 98.2629%\n"
     ]
    }
   ],
   "source": [
    "model = Lenet5()\n",
    "model.to(device)\n",
    "loss = nn.CrossEntropyLoss()\n",
    "optimizer = torch.optim.Adam(params=model.parameters(), lr=0.001, weight_decay=1e-5)\n",
    "\n",
    "training_loss, validation_loss = train(model,train_loader,20,loss)"
   ]
  },
  {
   "cell_type": "code",
   "execution_count": 133,
   "metadata": {},
   "outputs": [
    {
     "data": {
      "image/png": "[encoded data removed]",
      "text/plain": [
       "<Figure size 432x288 with 1 Axes>"
      ]
     },
     "metadata": {
      "needs_background": "light"
     },
     "output_type": "display_data"
    }
   ],
   "source": [
    "fig = plt.figure()\n",
    "plt.plot(training_loss, label = 'Training Loss')\n",
    "plt.plot(validation_loss, label = 'Validation Loss')\n",
    "plt.title(\"Loss graphic\")\n",
    "plt.xlabel('Epochs')\n",
    "plt.ylabel('Loss')\n",
    "plt.legend()\n",
    "plt.show()"
   ]
  },
  {
   "cell_type": "code",
   "execution_count": 135,
   "metadata": {},
   "outputs": [
    {
     "name": "stdout",
     "output_type": "stream",
     "text": [
      "Total tested: 37246\n",
      "Correct tested: 36615\n",
      "Accuracy: 98.3059 %\n"
     ]
    }
   ],
   "source": [
    "model.eval()\n",
    "\n",
    "correct = 0\n",
    "total = 0\n",
    "with torch.no_grad():\n",
    "    for image_batch, label_batch in test_loader:\n",
    "        image_batch = image_batch.to(device)\n",
    "    \n",
    "        label_batch_pred = model(image_batch)\n",
    "\n",
    "        image_batch = image_batch.to('cpu')\n",
    "        label_batch_pred = label_batch_pred.to('cpu')\n",
    "\n",
    "        _, test = torch.max(label_batch.data, 1)\n",
    "        _, predicted = torch.max(label_batch_pred.data, 1)\n",
    "        total += label_batch.size(0)\n",
    "        correct += (predicted == test).sum().item()\n",
    "print(f'Total tested: {total}')\n",
    "print(f'Correct tested: {correct}')\n",
    "print(f'Accuracy: {(100.0 * correct / total):.4f} %')"
   ]
  },
  {
   "cell_type": "code",
   "execution_count": 136,
   "metadata": {},
   "outputs": [],
   "source": [
    "torch.save(model, PATH + '/Lenet5.pt')"
   ]
  },
  {
   "cell_type": "code",
   "execution_count": 147,
   "metadata": {},
   "outputs": [],
   "source": [
    "class AlexNet(nn.Module):\n",
    "    def __init__(self):\n",
    "        super(AlexNet, self).__init__()\n",
    "        self.features = nn.Sequential(\n",
    "            nn.Conv2d(1, 64, kernel_size=(5, 5), stride=(2, 2), padding=(2, 2)),\n",
    "            nn.ReLU(inplace = True),\n",
    "            nn.MaxPool2d(kernel_size=2, stride=2, padding=0, dilation=1, ceil_mode=False),\n",
    "            nn.Conv2d(64, 192, kernel_size=(5, 5), stride=(1, 1), padding=(2, 2)),\n",
    "            nn.ReLU(inplace = True),\n",
    "            nn.MaxPool2d(kernel_size=2, stride=2, padding=0, dilation=1, ceil_mode=False),\n",
    "            nn.Conv2d(192, 384, kernel_size=(3, 3), stride=(1, 1), padding=(1, 1)),\n",
    "            nn.ReLU(inplace = True),\n",
    "            nn.Conv2d(384, 256, kernel_size=(3, 3), stride=(1, 1), padding=(1, 1)),\n",
    "            nn.ReLU(inplace = True),\n",
    "            nn.Conv2d(256, 256, kernel_size=(3, 3), stride=(1, 1), padding=(1, 1)),\n",
    "            nn.ReLU(inplace = True),\n",
    "            nn.MaxPool2d(kernel_size=2, stride=1, padding=0, dilation=1, ceil_mode=False),\n",
    "            nn.AdaptiveAvgPool2d(output_size=(6, 6))\n",
    "        )\n",
    "        self.classifier = nn.Sequential(\n",
    "            #nn.Dropout(p=0.1, inplace = False),\n",
    "            nn.Linear(in_features=9216, out_features=2048, bias=True),\n",
    "            nn.ReLU(inplace = True),\n",
    "            #nn.Dropout(p=0.1, inplace = False),\n",
    "            nn.Linear(in_features=2048, out_features=512, bias=True),\n",
    "            nn.ReLU(inplace = True),\n",
    "            nn.Linear(in_features=512, out_features=26, bias=True)\n",
    "         )\n",
    "\n",
    "    def forward(self, image):\n",
    "        out = self.features(image)\n",
    "        out = out.view(out.size(0), -1)\n",
    "        out = self.classifier(out)\n",
    "        return out"
   ]
  },
  {
   "cell_type": "code",
   "execution_count": 148,
   "metadata": {},
   "outputs": [
    {
     "name": "stdout",
     "output_type": "stream",
     "text": [
      "Epoch [1 / 20] training error: 0.2724, training accuracy: 93.4531%, validation error: 0.1445, validation accuracy: 96.6089%\n",
      "Epoch [2 / 20] training error: 0.1221, training accuracy: 97.2067%, validation error: 0.1058, validation accuracy: 97.5916%\n",
      "Epoch [3 / 20] training error: 0.1026, training accuracy: 97.6668%, validation error: 0.1007, validation accuracy: 97.6802%\n",
      "Epoch [4 / 20] training error: 0.0955, training accuracy: 97.8789%, validation error: 0.0972, validation accuracy: 97.7984%\n",
      "Epoch [5 / 20] training error: 0.0868, training accuracy: 98.0615%, validation error: 0.0920, validation accuracy: 97.8923%\n",
      "Epoch [6 / 20] training error: 0.0847, training accuracy: 98.1407%, validation error: 0.0932, validation accuracy: 98.0132%\n",
      "Epoch [7 / 20] training error: 0.0890, training accuracy: 98.1199%, validation error: 0.1083, validation accuracy: 97.6990%\n",
      "Epoch [8 / 20] training error: 0.0812, training accuracy: 98.2927%, validation error: 0.1131, validation accuracy: 97.8494%\n",
      "Epoch [9 / 20] training error: 0.0831, training accuracy: 98.2810%, validation error: 0.1041, validation accuracy: 98.1555%\n",
      "Epoch [10 / 20] training error: 0.0814, training accuracy: 98.3283%, validation error: 0.1027, validation accuracy: 98.0212%\n",
      "Epoch [11 / 20] training error: 0.0884, training accuracy: 98.3021%, validation error: 0.0879, validation accuracy: 98.3890%\n",
      "Epoch [12 / 20] training error: 0.0788, training accuracy: 98.4015%, validation error: 0.0945, validation accuracy: 98.1152%\n",
      "Epoch [13 / 20] training error: 0.0771, training accuracy: 98.4384%, validation error: 0.0989, validation accuracy: 98.3300%\n",
      "Epoch [14 / 20] training error: 0.0833, training accuracy: 98.3283%, validation error: 0.1079, validation accuracy: 98.1501%\n",
      "Epoch [15 / 20] training error: 0.0815, training accuracy: 98.4102%, validation error: 0.1033, validation accuracy: 97.9111%\n",
      "Epoch [16 / 20] training error: 0.0868, training accuracy: 98.3723%, validation error: 0.0937, validation accuracy: 98.2843%\n",
      "Epoch [17 / 20] training error: 0.0744, training accuracy: 98.4894%, validation error: 0.0883, validation accuracy: 98.2897%\n",
      "Epoch [18 / 20] training error: 0.0779, training accuracy: 98.4599%, validation error: 0.1130, validation accuracy: 98.1796%\n",
      "Epoch [19 / 20] training error: 0.0794, training accuracy: 98.4129%, validation error: 0.1011, validation accuracy: 98.2521%\n",
      "Epoch [20 / 20] training error: 0.0803, training accuracy: 98.3753%, validation error: 0.0926, validation accuracy: 97.9621%\n"
     ]
    }
   ],
   "source": [
    "model = AlexNet()\n",
    "model.to(device)\n",
    "loss = nn.CrossEntropyLoss()\n",
    "optimizer = torch.optim.Adam(params=model.parameters(), lr=0.001, weight_decay=1e-5)\n",
    "\n",
    "training_loss, validation_loss = train(model,train_loader,20,loss)"
   ]
  },
  {
   "cell_type": "code",
   "execution_count": 152,
   "metadata": {},
   "outputs": [
    {
     "data": {
      "image/png": "[encoded data removed]",
      "text/plain": [
       "<Figure size 432x288 with 1 Axes>"
      ]
     },
     "metadata": {
      "needs_background": "light"
     },
     "output_type": "display_data"
    }
   ],
   "source": [
    "fig = plt.figure()\n",
    "plt.plot(training_loss, label = 'Training Loss')\n",
    "plt.plot(validation_loss, label = 'Validation Loss')\n",
    "plt.title(\"Loss graphic\")\n",
    "plt.xlabel('Epochs')\n",
    "plt.ylabel('Loss')\n",
    "plt.legend()\n",
    "plt.show()"
   ]
  },
  {
   "cell_type": "code",
   "execution_count": 153,
   "metadata": {},
   "outputs": [
    {
     "name": "stdout",
     "output_type": "stream",
     "text": [
      "Total tested: 37246\n",
      "Correct tested: 36486\n",
      "Accuracy: 97.9595 %\n"
     ]
    }
   ],
   "source": [
    "model.eval()\n",
    "\n",
    "correct = 0\n",
    "total = 0\n",
    "with torch.no_grad():\n",
    "    for image_batch, label_batch in test_loader:\n",
    "        image_batch = image_batch.to(device)\n",
    "    \n",
    "        label_batch_pred = model(image_batch)\n",
    "\n",
    "        image_batch = image_batch.to('cpu')\n",
    "        label_batch_pred = label_batch_pred.to('cpu')\n",
    "\n",
    "        _, test = torch.max(label_batch.data, 1)\n",
    "        _, predicted = torch.max(label_batch_pred.data, 1)\n",
    "        total += label_batch.size(0)\n",
    "        correct += (predicted == test).sum().item()\n",
    "print(f'Total tested: {total}')\n",
    "print(f'Correct tested: {correct}')\n",
    "print(f'Accuracy: {(100.0 * correct / total):.4f} %')"
   ]
  },
  {
   "cell_type": "code",
   "execution_count": 154,
   "metadata": {},
   "outputs": [],
   "source": [
    "torch.save(model, PATH + '/Alexnet.pt')"
   ]
  },
  {
   "cell_type": "code",
   "execution_count": 108,
   "metadata": {},
   "outputs": [],
   "source": []
  },
  {
   "cell_type": "code",
   "execution_count": 155,
   "metadata": {},
   "outputs": [
    {
     "name": "stdout",
     "output_type": "stream",
     "text": [
      "Total tested: 37246\n",
      "Correct tested: 36615\n",
      "Accuracy: 98.3059 %\n"
     ]
    }
   ],
   "source": [
    "model = torch.load(PATH + '/Lenet5.pt')\n",
    "model = model.to(device)\n",
    "\n",
    "model.eval()\n",
    "\n",
    "correct = 0\n",
    "total = 0\n",
    "with torch.no_grad():\n",
    "    for image_batch, label_batch in test_loader:\n",
    "        image_batch = image_batch.to(device)\n",
    "    \n",
    "        label_batch_pred = model(image_batch)\n",
    "\n",
    "        image_batch = image_batch.to('cpu')\n",
    "        label_batch_pred = label_batch_pred.to('cpu')\n",
    "\n",
    "        _, test = torch.max(label_batch.data, 1)\n",
    "        _, predicted = torch.max(label_batch_pred.data, 1)\n",
    "        total += label_batch.size(0)\n",
    "        correct += (predicted == test).sum().item()\n",
    "print(f'Total tested: {total}')\n",
    "print(f'Correct tested: {correct}')\n",
    "print(f'Accuracy: {(100.0 * correct / total):.4f} %')\n"
   ]
  },
  {
   "cell_type": "code",
   "execution_count": 156,
   "metadata": {},
   "outputs": [
    {
     "name": "stdout",
     "output_type": "stream",
     "text": [
      "Total tested: 37246\n",
      "Correct tested: 36486\n",
      "Accuracy: 97.9595 %\n"
     ]
    }
   ],
   "source": [
    "model = torch.load(PATH + '/Alexnet.pt')\n",
    "model = model.to(device)\n",
    "\n",
    "model.eval()\n",
    "\n",
    "correct = 0\n",
    "total = 0\n",
    "with torch.no_grad():\n",
    "    for image_batch, label_batch in test_loader:\n",
    "        image_batch = image_batch.to(device)\n",
    "    \n",
    "        label_batch_pred = model(image_batch)\n",
    "\n",
    "        image_batch = image_batch.to('cpu')\n",
    "        label_batch_pred = label_batch_pred.to('cpu')\n",
    "\n",
    "        _, test = torch.max(label_batch.data, 1)\n",
    "        _, predicted = torch.max(label_batch_pred.data, 1)\n",
    "        total += label_batch.size(0)\n",
    "        correct += (predicted == test).sum().item()\n",
    "print(f'Total tested: {total}')\n",
    "print(f'Correct tested: {correct}')\n",
    "print(f'Accuracy: {(100.0 * correct / total):.4f} %')\n"
   ]
  }
 ],
 "metadata": {
  "kernelspec": {
   "display_name": "Python 3",
   "language": "python",
   "name": "python3"
  },
  "language_info": {
   "codemirror_mode": {
    "name": "ipython",
    "version": 3
   },
   "file_extension": ".py",
   "mimetype": "text/x-python",
   "name": "python",
   "nbconvert_exporter": "python",
   "pygments_lexer": "ipython3",
   "version": "3.8.5"
  },
  "vscode": {
   "interpreter": {
    "hash": "63224ea7c235bd7a2c0ba1f6ee739e2331add9735b424e21e1e192b9c2088aa5"
   }
  }
 },
 "nbformat": 4,
 "nbformat_minor": 4
}
