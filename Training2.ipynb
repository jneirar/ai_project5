{
 "cells": [
  {
   "cell_type": "code",
   "execution_count": null,
   "metadata": {},
   "outputs": [],
   "source": []
  },
  {
   "cell_type": "code",
   "execution_count": 27,
   "metadata": {},
   "outputs": [],
   "source": [
    "import cv2\n",
    "import pandas as pd\n",
    "import numpy as np\n",
    "import matplotlib.pyplot as plt\n",
    "import os\n",
    "from os import listdir\n",
    "from os.path import isfile, join\n",
    "from PIL import Image\n",
    "\n",
    "import gdown as gdown\n",
    "from sklearn.utils import shuffle\n",
    "from sklearn.model_selection import train_test_split\n",
    "from sklearn.preprocessing import MinMaxScaler\n",
    "\n",
    "import torch\n",
    "import torch.nn as nn\n",
    "import torchvision\n",
    "from torchvision import transforms, datasets\n",
    "import torch.nn.functional as F\n",
    "from torch.utils.data import DataLoader,Dataset\n",
    "from torchvision.transforms.transforms import Normalize"
   ]
  },
  {
   "cell_type": "code",
   "execution_count": 135,
   "metadata": {},
   "outputs": [],
   "source": [
    "from Models.Models import *"
   ]
  },
  {
   "cell_type": "code",
   "execution_count": 22,
   "metadata": {},
   "outputs": [
    {
     "name": "stdout",
     "output_type": "stream",
     "text": [
      "{48: 0, 49: 1, 50: 2, 51: 3, 52: 4, 53: 5, 54: 6, 55: 7, 56: 8, 57: 9, 65: 10, 66: 11, 67: 12, 68: 13, 69: 14, 70: 15, 71: 16, 72: 17, 73: 18, 74: 19, 75: 20, 76: 21, 77: 22, 78: 23, 79: 24, 80: 25, 81: 26, 82: 27, 83: 28, 84: 29, 85: 30, 86: 31, 87: 32, 88: 33, 89: 34, 90: 35, 97: 36, 98: 37, 99: 38, 100: 39, 101: 40, 102: 41, 103: 42, 104: 43, 105: 44, 106: 45, 107: 46, 108: 47, 109: 48, 110: 49, 111: 50, 112: 51, 113: 52, 114: 53, 115: 54, 116: 55, 117: 56, 118: 57, 119: 58, 120: 59, 121: 60, 122: 61}\n"
     ]
    }
   ],
   "source": [
    "PATH = os.getcwd()\n",
    "charToASCII = {'0': 48, '1': 49, '2': 50, '3': 51, '4': 52, '5': 53, '6': 54, '7': 55, '8': 56, '9': 57, 'A': 65, 'B': 66, 'C': 67, 'D': 68, 'E': 69, 'F': 70, 'G': 71, 'H': 72, 'I': 73, 'J': 74, 'K': 75, 'L': 76, 'M': 77, 'N': 78, 'O': 79, 'P': 80, 'Q': 81, 'R': 82, 'S': 83, 'T': 84, 'U': 85, 'V': 86, 'W': 87, 'X': 88, 'Y': 89, 'Z': 90, 'a': 97, 'b': 98, 'c': 99, 'd': 100, 'e': 101, 'f': 102, 'g': 103, 'h': 104, 'i': 105, 'j': 106, 'k': 107, 'l': 108, 'm': 109, 'n': 110, 'o': 111, 'p': 112, 'q': 113, 'r': 114, 's': 115, 't': 116, 'u': 117, 'v': 118, 'w': 119, 'x': 120, 'y': 121, 'z': 122}\n",
    "ASCIIToChar = {48: '0', 49: '1', 50: '2', 51: '3', 52: '4', 53: '5', 54: '6', 55: '7', 56: '8', 57: '9', 65: 'A', 66: 'B', 67: 'C', 68: 'D', 69: 'E', 70: 'F', 71: 'G', 72: 'H', 73: 'I', 74: 'J', 75: 'K', 76: 'L', 77: 'M', 78: 'N', 79: 'O', 80: 'P', 81: 'Q', 82: 'R', 83: 'S', 84: 'T', 85: 'U', 86: 'V', 87: 'W', 88: 'X', 89: 'Y', 90: 'Z', 97: 'a', 98: 'b', 99: 'c', 100: 'd', 101: 'e', 102: 'f', 103: 'g', 104: 'h', 105: 'i', 106: 'j', 107: 'k', 108: 'l', 109: 'm', 110: 'n', 111: 'o', 112: 'p', 113: 'q', 114: 'r', 115: 's', 116: 't', 117: 'u', 118: 'v', 119: 'w', 120: 'x', 121: 'y', 122: 'z'}\n",
    "classes = 62\n",
    "PATH_DATASET = \"E:\\\\Handwritten Dataset\\\\by_class\\\\\" #Path to dataset\n",
    "mapIndex = {}\n",
    "i = 0\n",
    "for key in ASCIIToChar.keys():\n",
    "    mapIndex[key] = i\n",
    "    i += 1\n",
    "print(mapIndex)"
   ]
  },
  {
   "cell_type": "code",
   "execution_count": 69,
   "metadata": {},
   "outputs": [
    {
     "name": "stdout",
     "output_type": "stream",
     "text": [
      "End 0 : 34803 elements\n",
      "End 1 : 38049 elements\n",
      "End 2 : 34184 elements\n",
      "End 3 : 35293 elements\n",
      "End 4 : 33432 elements\n",
      "End 5 : 31067 elements\n",
      "End 6 : 34079 elements\n",
      "End 7 : 35796 elements\n",
      "End 8 : 33884 elements\n",
      "End 9 : 33720 elements\n",
      "End A : 7010 elements\n",
      "End B : 4091 elements\n",
      "End C : 11315 elements\n",
      "End D : 4945 elements\n",
      "End E : 5420 elements\n",
      "End F : 10203 elements\n",
      "End G : 2575 elements\n",
      "End H : 3271 elements\n",
      "End I : 13179 elements\n",
      "End J : 3962 elements\n",
      "End K : 2473 elements\n",
      "End L : 5390 elements\n",
      "End M : 10027 elements\n",
      "End N : 9149 elements\n",
      "End O : 28680 elements\n",
      "End P : 9277 elements\n",
      "End Q : 2566 elements\n",
      "End R : 5436 elements\n",
      "End S : 23827 elements\n",
      "End T : 10927 elements\n",
      "End U : 14146 elements\n",
      "End V : 4951 elements\n",
      "End W : 5026 elements\n",
      "End X : 2731 elements\n",
      "End Y : 5088 elements\n",
      "End Z : 2698 elements\n",
      "End a : 11196 elements\n",
      "End b : 5551 elements\n",
      "End c : 2792 elements\n",
      "End d : 11421 elements\n",
      "End e : 28299 elements\n",
      "End f : 2493 elements\n",
      "End g : 3839 elements\n",
      "End h : 9713 elements\n",
      "End i : 2788 elements\n",
      "End j : 1920 elements\n",
      "End k : 2562 elements\n",
      "End l : 16937 elements\n",
      "End m : 2634 elements\n",
      "End n : 12856 elements\n",
      "End o : 2761 elements\n",
      "End p : 2401 elements\n",
      "End q : 3115 elements\n",
      "End r : 15934 elements\n",
      "End s : 2698 elements\n",
      "End t : 20793 elements\n",
      "End u : 2837 elements\n",
      "End v : 2854 elements\n",
      "End w : 2699 elements\n",
      "End x : 2820 elements\n",
      "End y : 2359 elements\n",
      "End z : 2726 elements\n"
     ]
    }
   ],
   "source": [
    "chars = []\n",
    "for i in range(classes):\n",
    "    chars.append([])\n",
    "\n",
    "transformToTensor = transforms.Compose([\n",
    "    transforms.Grayscale(num_output_channels=1),\n",
    "    transforms.Resize((28,28)),\n",
    "    transforms.ToTensor()\n",
    "])\n",
    "\n",
    "for class_id in ASCIIToChar.keys():\n",
    "    PATH_CLASS = PATH_DATASET + str(hex(class_id))[2:] + \"\\\\train_\" + str(hex(class_id))[2:] + \"\\\\\"\n",
    "    for file in listdir(PATH_CLASS):\n",
    "        img = Image.open(PATH_CLASS + file)\n",
    "        tensor = transformToTensor(img)\n",
    "        labels_v = np.zeros(classes, dtype=np.float32)\n",
    "        labels_v[mapIndex[class_id]] = 1\n",
    "        chars[mapIndex[class_id]].append((tensor, torch.tensor(labels_v)))\n",
    "    print(\"End\", ASCIIToChar[class_id],\":\",len(chars[mapIndex[class_id]]),\"elements\")"
   ]
  },
  {
   "cell_type": "code",
   "execution_count": 72,
   "metadata": {},
   "outputs": [
    {
     "name": "stdout",
     "output_type": "stream",
     "text": [
      "731668\n",
      "train set length: 585308\n",
      "validation set length: 73139\n",
      "test set length: 73221\n",
      "set type: <class 'list'>\n",
      "data set type: <class 'tuple'>\n",
      "first data set type: <class 'torch.Tensor'>\n",
      "first data shape: torch.Size([1, 28, 28])\n",
      "second data set type: <class 'torch.Tensor'>\n",
      "second data shape: torch.Size([62])\n"
     ]
    }
   ],
   "source": [
    "n_total = 0\n",
    "for lista in chars:\n",
    "    n_total += len(lista)\n",
    "print(n_total)\n",
    "\n",
    "train_set = []\n",
    "validation_set = []\n",
    "test_set = []\n",
    "for lista in chars:\n",
    "    n = len(lista)\n",
    "    n_train = int(0.8*n)\n",
    "    n_validation = int(0.1*n)\n",
    "    for i in range(n_train):\n",
    "        train_set.append(lista[i])\n",
    "    for i in range(n_train, n_train + n_validation):\n",
    "        validation_set.append(lista[i])\n",
    "    for i in range(n_train + n_validation, n):\n",
    "        test_set.append(lista[i])\n",
    "\n",
    "print(\"train set length:\", len(train_set))\n",
    "print(\"validation set length:\", len(validation_set))\n",
    "print(\"test set length:\", len(test_set))\n",
    "print(\"set type:\", type(train_set))\n",
    "print(\"data set type:\", type(train_set[0]))\n",
    "a, b = train_set[0] \n",
    "print(\"first data set type:\", type(a))\n",
    "print(\"first data shape:\", a.shape)\n",
    "print(\"second data set type:\", type(b))\n",
    "print(\"second data shape:\", b.shape)"
   ]
  },
  {
   "cell_type": "code",
   "execution_count": null,
   "metadata": {},
   "outputs": [],
   "source": []
  },
  {
   "cell_type": "code",
   "execution_count": 74,
   "metadata": {},
   "outputs": [],
   "source": [
    "batch_size = 64\n",
    "\n",
    "train_loader = torch.utils.data.DataLoader(dataset=train_set, batch_size=batch_size, shuffle=True)\n",
    "validation_loader = torch.utils.data.DataLoader(dataset=validation_set, batch_size=batch_size, shuffle=True)\n",
    "test_loader = torch.utils.data.DataLoader(dataset=test_set, batch_size=batch_size, shuffle=True)"
   ]
  },
  {
   "cell_type": "code",
   "execution_count": 75,
   "metadata": {},
   "outputs": [],
   "source": [
    "def train(model, train_loader, Epochs, loss_fn):\n",
    "    train_loss_avg = []\n",
    "    validation_loss_avg = []\n",
    "    \n",
    "    for epoch in range(Epochs):\n",
    "        model.train()\n",
    "\n",
    "        train_loss_avg.append(0)\n",
    "        num_batches = 0\n",
    "        total = 0\n",
    "        correct = 0\n",
    "\n",
    "        for image_batch, label_batch in train_loader:\n",
    "            image_batch = image_batch.to(device)\n",
    "            label_batch = label_batch.to(device)\n",
    "            \n",
    "            label_batch_pred = model(image_batch)\n",
    "            loss = loss_fn(label_batch_pred, label_batch)\n",
    "\n",
    "            _, test = torch.max(label_batch.data, 1)\n",
    "            _, predicted = torch.max(label_batch_pred.data, 1)\n",
    "            total += label_batch.size(0)\n",
    "            correct += (predicted == test).sum().item()\n",
    "            \n",
    "            loss.backward()\n",
    "            optimizer.step()\n",
    "            optimizer.zero_grad()\n",
    "            \n",
    "            train_loss_avg[-1] += loss.item()\n",
    "            num_batches += 1\n",
    "\n",
    "        train_loss_avg[-1] /= num_batches\n",
    "        train_accuracy = 100.0 * correct / total \n",
    "\n",
    "        validation_loss_avg.append(0)\n",
    "        num_batches = 0\n",
    "        total = 0\n",
    "        correct = 0\n",
    "\n",
    "        model.eval()\n",
    "\n",
    "        with torch.no_grad():\n",
    "            for image_batch, label_batch in validation_loader:\n",
    "                image_batch = image_batch.to(device)\n",
    "                label_batch = label_batch.to(device)\n",
    "            \n",
    "                label_batch_pred = model(image_batch)\n",
    "                loss = loss_fn(label_batch_pred, label_batch)\n",
    "\n",
    "                _, test = torch.max(label_batch.data, 1)\n",
    "                _, predicted = torch.max(label_batch_pred.data, 1)\n",
    "                total += label_batch.size(0)\n",
    "                correct += (predicted == test).sum().item()\n",
    "\n",
    "                validation_loss_avg[-1] += loss.item()\n",
    "                num_batches += 1\n",
    "\n",
    "        validation_loss_avg[-1] /= num_batches\n",
    "        validation_accuracy = 100.0 * correct / total\n",
    "\n",
    "        print(f'Epoch [{epoch+1} / {Epochs}] training error: {train_loss_avg[-1]:.4f}, training accuracy: {train_accuracy:.4f}%, validation error: {validation_loss_avg[-1]:.4f}, validation accuracy: {validation_accuracy:.4f}%')\n",
    "      \n",
    "    return train_loss_avg, validation_loss_avg"
   ]
  },
  {
   "cell_type": "code",
   "execution_count": 76,
   "metadata": {},
   "outputs": [],
   "source": [
    "def training_model(model, epoch, loss, optimizer, train_loader):\n",
    "    training_loss, validation_loss = train(model,train_loader,epoch,loss)\n",
    "    \n",
    "    fig = plt.figure()\n",
    "    plt.plot(training_loss, label = 'Training Loss')\n",
    "    plt.plot(validation_loss, label = 'Validation Loss')\n",
    "    plt.title(\"Loss graphic\")\n",
    "    plt.xlabel('Epochs')\n",
    "    plt.ylabel('Loss')\n",
    "    plt.legend()\n",
    "    plt.show()"
   ]
  },
  {
   "cell_type": "code",
   "execution_count": 77,
   "metadata": {},
   "outputs": [],
   "source": [
    "def testing_model(model, test_loader):\n",
    "    model.eval()\n",
    "\n",
    "    correct = 0\n",
    "    total = 0\n",
    "    with torch.no_grad():\n",
    "        for image_batch, label_batch in test_loader:\n",
    "            image_batch = image_batch.to(device)\n",
    "\n",
    "            label_batch_pred = model(image_batch)\n",
    "\n",
    "            image_batch = image_batch.to('cpu')\n",
    "            label_batch_pred = label_batch_pred.to('cpu')\n",
    "\n",
    "            _, test = torch.max(label_batch.data, 1)\n",
    "            _, predicted = torch.max(label_batch_pred.data, 1)\n",
    "            total += label_batch.size(0)\n",
    "            correct += (predicted == test).sum().item()\n",
    "    print(f'Total tested: {total}')\n",
    "    print(f'Correct tested: {correct}')\n",
    "    print(f'Accuracy: {(100.0 * correct / total):.4f} %')"
   ]
  },
  {
   "cell_type": "code",
   "execution_count": 85,
   "metadata": {},
   "outputs": [
    {
     "name": "stdout",
     "output_type": "stream",
     "text": [
      "cuda:0\n"
     ]
    }
   ],
   "source": [
    "device = torch.device('cuda:0' if torch.cuda.is_available() else 'cpu')\n",
    "print(device)"
   ]
  },
  {
   "cell_type": "code",
   "execution_count": 104,
   "metadata": {},
   "outputs": [],
   "source": [
    "class Lenet5(nn.Module):\n",
    "    def __init__(self):\n",
    "        super(Lenet5, self).__init__()\n",
    "        self.features = nn.Sequential(\n",
    "            nn.Conv2d(1, 6, kernel_size=(5, 5), stride=(1, 1), padding=(2, 2)),\n",
    "            nn.ReLU(inplace = True),\n",
    "            nn.MaxPool2d(kernel_size=2, stride=2, padding=0, dilation=1, ceil_mode=False),\n",
    "            nn.Conv2d(6, 16, kernel_size=(5, 5), stride=(1, 1), padding=(0, 0)),\n",
    "            nn.ReLU(inplace = True),\n",
    "            nn.MaxPool2d(kernel_size=2, stride=2, padding=0, dilation=1, ceil_mode=False),\n",
    "            nn.Conv2d(16, 120, kernel_size=(5, 5), stride=(1, 1), padding=(0, 0)),\n",
    "            nn.AdaptiveAvgPool2d(output_size=(1, 1))\n",
    "        )\n",
    "        self.classifier = nn.Sequential(\n",
    "            nn.Linear(in_features=120, out_features=84, bias=True),\n",
    "            nn.ReLU(inplace = True),\n",
    "            nn.Linear(in_features=84, out_features=62, bias=True),\n",
    "         )\n",
    "        \n",
    "    def forward(self, image):\n",
    "        out = self.features(image)\n",
    "        out = out.view(out.size(0), -1)\n",
    "        out = self.classifier(out)\n",
    "        return out"
   ]
  },
  {
   "cell_type": "code",
   "execution_count": 105,
   "metadata": {},
   "outputs": [
    {
     "name": "stdout",
     "output_type": "stream",
     "text": [
      "Epoch [1 / 20] training error: 0.7201, training accuracy: 78.7679%, validation error: 0.6577, validation accuracy: 78.6065%\n",
      "Epoch [2 / 20] training error: 0.4355, training accuracy: 86.1613%, validation error: 0.6577, validation accuracy: 77.2256%\n",
      "Epoch [3 / 20] training error: 0.3953, training accuracy: 87.2231%, validation error: 0.6352, validation accuracy: 78.9278%\n",
      "Epoch [4 / 20] training error: 0.3746, training accuracy: 87.8117%, validation error: 0.6173, validation accuracy: 79.2559%\n",
      "Epoch [5 / 20] training error: 0.3614, training accuracy: 88.1666%, validation error: 0.6174, validation accuracy: 79.3065%\n",
      "Epoch [6 / 20] training error: 0.3514, training accuracy: 88.4322%, validation error: 0.6121, validation accuracy: 78.7418%\n",
      "Epoch [7 / 20] training error: 0.3453, training accuracy: 88.6470%, validation error: 0.6006, validation accuracy: 79.0454%\n",
      "Epoch [8 / 20] training error: 0.3384, training accuracy: 88.8319%, validation error: 0.6132, validation accuracy: 78.3659%\n",
      "Epoch [9 / 20] training error: 0.3344, training accuracy: 88.9501%, validation error: 0.6022, validation accuracy: 78.8881%\n",
      "Epoch [10 / 20] training error: 0.3306, training accuracy: 89.0106%, validation error: 0.5716, validation accuracy: 79.7249%\n",
      "Epoch [11 / 20] training error: 0.3280, training accuracy: 89.0876%, validation error: 0.6090, validation accuracy: 78.1785%\n",
      "Epoch [12 / 20] training error: 0.3241, training accuracy: 89.1965%, validation error: 0.6111, validation accuracy: 78.8102%\n",
      "Epoch [13 / 20] training error: 0.3225, training accuracy: 89.2605%, validation error: 0.5772, validation accuracy: 79.7290%\n",
      "Epoch [14 / 20] training error: 0.3196, training accuracy: 89.3741%, validation error: 0.6131, validation accuracy: 78.0459%\n",
      "Epoch [15 / 20] training error: 0.3184, training accuracy: 89.3685%, validation error: 0.6255, validation accuracy: 79.4692%\n",
      "Epoch [16 / 20] training error: 0.3162, training accuracy: 89.4534%, validation error: 0.5848, validation accuracy: 79.2272%\n",
      "Epoch [17 / 20] training error: 0.3147, training accuracy: 89.4953%, validation error: 0.5976, validation accuracy: 77.8600%\n",
      "Epoch [18 / 20] training error: 0.3132, training accuracy: 89.5320%, validation error: 0.6200, validation accuracy: 77.7191%\n",
      "Epoch [19 / 20] training error: 0.3121, training accuracy: 89.5682%, validation error: 0.5797, validation accuracy: 79.6579%\n",
      "Epoch [20 / 20] training error: 0.3111, training accuracy: 89.5679%, validation error: 0.5602, validation accuracy: 80.1939%\n"
     ]
    },
    {
     "data": {
      "image/png": "[encoded data removed]",
      "text/plain": [
       "<Figure size 432x288 with 1 Axes>"
      ]
     },
     "metadata": {
      "needs_background": "light"
     },
     "output_type": "display_data"
    }
   ],
   "source": [
    "model = Lenet5()\n",
    "model.to(device)\n",
    "loss = nn.CrossEntropyLoss()\n",
    "optimizer = torch.optim.Adam(params=model.parameters(), lr=0.001, weight_decay=1e-5)\n",
    "training_model(model, 20, loss, optimizer, train_loader)"
   ]
  },
  {
   "cell_type": "code",
   "execution_count": 107,
   "metadata": {},
   "outputs": [
    {
     "name": "stdout",
     "output_type": "stream",
     "text": [
      "Total tested: 73221\n",
      "Correct tested: 57732\n",
      "Accuracy: 78.8462 %\n"
     ]
    }
   ],
   "source": [
    "testing_model(model, test_loader)"
   ]
  },
  {
   "cell_type": "code",
   "execution_count": 108,
   "metadata": {},
   "outputs": [],
   "source": [
    "torch.save(model, PATH + '/Lenet5.pt')"
   ]
  },
  {
   "cell_type": "code",
   "execution_count": 139,
   "metadata": {},
   "outputs": [],
   "source": [
    "class AlexNet(nn.Module):\n",
    "    def __init__(self):\n",
    "        super(AlexNet, self).__init__()\n",
    "        self.features = nn.Sequential(\n",
    "            nn.Conv2d(1, 64, kernel_size=(5, 5), stride=(2, 2), padding=(2, 2)),\n",
    "            nn.ReLU(inplace = True),\n",
    "            nn.MaxPool2d(kernel_size=2, stride=2, padding=0, dilation=1, ceil_mode=False),\n",
    "            nn.Conv2d(64, 192, kernel_size=(5, 5), stride=(1, 1), padding=(2, 2)),\n",
    "            nn.ReLU(inplace = True),\n",
    "            nn.MaxPool2d(kernel_size=2, stride=2, padding=0, dilation=1, ceil_mode=False),\n",
    "            nn.Conv2d(192, 384, kernel_size=(3, 3), stride=(1, 1), padding=(1, 1)),\n",
    "            nn.ReLU(inplace = True),\n",
    "            nn.Conv2d(384, 256, kernel_size=(3, 3), stride=(1, 1), padding=(1, 1)),\n",
    "            nn.ReLU(inplace = True),\n",
    "            nn.Conv2d(256, 256, kernel_size=(3, 3), stride=(1, 1), padding=(0, 0)),\n",
    "            nn.AdaptiveAvgPool2d(output_size=(1, 1))\n",
    "        )\n",
    "        self.classifier = nn.Sequential(\n",
    "            nn.Linear(in_features=256, out_features=128, bias=True),\n",
    "            nn.ReLU(inplace = True),\n",
    "            nn.Linear(in_features=128, out_features=128, bias=True),\n",
    "            nn.ReLU(inplace = True),\n",
    "            nn.Linear(in_features=128, out_features=62, bias=True)\n",
    "         )\n",
    "\n",
    "    def forward(self, image):\n",
    "        out = self.features(image)\n",
    "        out = out.view(out.size(0), -1)\n",
    "        out = self.classifier(out)\n",
    "        return out"
   ]
  },
  {
   "cell_type": "code",
   "execution_count": 137,
   "metadata": {},
   "outputs": [],
   "source": []
  },
  {
   "cell_type": "code",
   "execution_count": 140,
   "metadata": {},
   "outputs": [
    {
     "name": "stdout",
     "output_type": "stream",
     "text": [
      "Epoch [1 / 20] training error: 0.7280, training accuracy: 78.2263%, validation error: 0.6612, validation accuracy: 77.7478%\n",
      "Epoch [2 / 20] training error: 0.4057, training accuracy: 87.0393%, validation error: 0.5908, validation accuracy: 79.1739%\n",
      "Epoch [3 / 20] training error: 0.3692, training accuracy: 88.0728%, validation error: 0.6180, validation accuracy: 78.1430%\n",
      "Epoch [4 / 20] training error: 0.3480, training accuracy: 88.6667%, validation error: 0.5805, validation accuracy: 78.7350%\n",
      "Epoch [5 / 20] training error: 0.3352, training accuracy: 89.0471%, validation error: 0.5902, validation accuracy: 78.2168%\n",
      "Epoch [6 / 20] training error: 0.3243, training accuracy: 89.3364%, validation error: 0.5772, validation accuracy: 80.4249%\n",
      "Epoch [7 / 20] training error: 0.3164, training accuracy: 89.5674%, validation error: 0.5999, validation accuracy: 79.3858%\n",
      "Epoch [8 / 20] training error: 0.3113, training accuracy: 89.7104%, validation error: 0.5861, validation accuracy: 79.4528%\n",
      "Epoch [9 / 20] training error: 0.3066, training accuracy: 89.8619%, validation error: 0.5735, validation accuracy: 80.0435%\n",
      "Epoch [10 / 20] training error: 0.3013, training accuracy: 89.9649%, validation error: 0.5894, validation accuracy: 78.8143%\n",
      "Epoch [11 / 20] training error: 0.2976, training accuracy: 90.1177%, validation error: 0.5866, validation accuracy: 79.1930%\n",
      "Epoch [12 / 20] training error: 0.2947, training accuracy: 90.2091%, validation error: 0.5837, validation accuracy: 78.6790%\n",
      "Epoch [13 / 20] training error: 0.2907, training accuracy: 90.3330%, validation error: 0.6067, validation accuracy: 78.6215%\n",
      "Epoch [14 / 20] training error: 0.2891, training accuracy: 90.3430%, validation error: 0.5890, validation accuracy: 79.9956%\n",
      "Epoch [15 / 20] training error: 0.2858, training accuracy: 90.4587%, validation error: 0.5823, validation accuracy: 80.5330%\n",
      "Epoch [16 / 20] training error: 0.2836, training accuracy: 90.4988%, validation error: 0.6105, validation accuracy: 79.1548%\n",
      "Epoch [17 / 20] training error: 0.2814, training accuracy: 90.5723%, validation error: 0.6197, validation accuracy: 79.2053%\n",
      "Epoch [18 / 20] training error: 0.2789, training accuracy: 90.6265%, validation error: 0.5734, validation accuracy: 78.8594%\n",
      "Epoch [19 / 20] training error: 0.2768, training accuracy: 90.6900%, validation error: 0.5867, validation accuracy: 80.4701%\n",
      "Epoch [20 / 20] training error: 0.2760, training accuracy: 90.7245%, validation error: 0.6108, validation accuracy: 79.5595%\n"
     ]
    },
    {
     "data": {
      "image/png": "[encoded data removed]",
      "text/plain": [
       "<Figure size 432x288 with 1 Axes>"
      ]
     },
     "metadata": {
      "needs_background": "light"
     },
     "output_type": "display_data"
    }
   ],
   "source": [
    "model = AlexNet()\n",
    "model.to(device)\n",
    "loss = nn.CrossEntropyLoss()\n",
    "optimizer = torch.optim.Adam(params=model.parameters(), lr=0.001, weight_decay=1e-5)\n",
    "training_model(model, 20, loss, optimizer, train_loader)"
   ]
  },
  {
   "cell_type": "code",
   "execution_count": 141,
   "metadata": {},
   "outputs": [
    {
     "name": "stdout",
     "output_type": "stream",
     "text": [
      "Total tested: 73221\n",
      "Correct tested: 57484\n",
      "Accuracy: 78.5075 %\n"
     ]
    }
   ],
   "source": [
    "testing_model(model, test_loader)"
   ]
  },
  {
   "cell_type": "code",
   "execution_count": 142,
   "metadata": {},
   "outputs": [],
   "source": [
    "torch.save(model, PATH + '/AlexNet.pt')"
   ]
  },
  {
   "cell_type": "code",
   "execution_count": 109,
   "metadata": {},
   "outputs": [
    {
     "name": "stdout",
     "output_type": "stream",
     "text": [
      "AlexNet(\n",
      "  (features): Sequential(\n",
      "    (0): Conv2d(3, 64, kernel_size=(11, 11), stride=(4, 4), padding=(2, 2))\n",
      "    (1): ReLU(inplace=True)\n",
      "    (2): MaxPool2d(kernel_size=3, stride=2, padding=0, dilation=1, ceil_mode=False)\n",
      "    (3): Conv2d(64, 192, kernel_size=(5, 5), stride=(1, 1), padding=(2, 2))\n",
      "    (4): ReLU(inplace=True)\n",
      "    (5): MaxPool2d(kernel_size=3, stride=2, padding=0, dilation=1, ceil_mode=False)\n",
      "    (6): Conv2d(192, 384, kernel_size=(3, 3), stride=(1, 1), padding=(1, 1))\n",
      "    (7): ReLU(inplace=True)\n",
      "    (8): Conv2d(384, 256, kernel_size=(3, 3), stride=(1, 1), padding=(1, 1))\n",
      "    (9): ReLU(inplace=True)\n",
      "    (10): Conv2d(256, 256, kernel_size=(3, 3), stride=(1, 1), padding=(1, 1))\n",
      "    (11): ReLU(inplace=True)\n",
      "    (12): MaxPool2d(kernel_size=3, stride=2, padding=0, dilation=1, ceil_mode=False)\n",
      "  )\n",
      "  (avgpool): AdaptiveAvgPool2d(output_size=(6, 6))\n",
      "  (classifier): Sequential(\n",
      "    (0): Dropout(p=0.5, inplace=False)\n",
      "    (1): Linear(in_features=9216, out_features=4096, bias=True)\n",
      "    (2): ReLU(inplace=True)\n",
      "    (3): Dropout(p=0.5, inplace=False)\n",
      "    (4): Linear(in_features=4096, out_features=4096, bias=True)\n",
      "    (5): ReLU(inplace=True)\n",
      "    (6): Linear(in_features=4096, out_features=1000, bias=True)\n",
      "  )\n",
      ")\n"
     ]
    }
   ],
   "source": [
    "mmm = torchvision.models.alexnet(pretrained=True)\n",
    "print(mmm)"
   ]
  }
 ],
 "metadata": {
  "kernelspec": {
   "display_name": "Python 3",
   "language": "python",
   "name": "python3"
  },
  "language_info": {
   "codemirror_mode": {
    "name": "ipython",
    "version": 3
   },
   "file_extension": ".py",
   "mimetype": "text/x-python",
   "name": "python",
   "nbconvert_exporter": "python",
   "pygments_lexer": "ipython3",
   "version": "3.8.5"
  }
 },
 "nbformat": 4,
 "nbformat_minor": 4
}
